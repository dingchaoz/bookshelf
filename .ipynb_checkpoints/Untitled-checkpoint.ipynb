{
 "cells": [
  {
   "cell_type": "code",
   "execution_count": 1,
   "metadata": {},
   "outputs": [],
   "source": [
    "import re\n",
    "\n",
    "import requests\n",
    "\n",
    "import json\n",
    "\n",
    "\n",
    "\n",
    "def form_url_title(title='here is where we meet'):\n",
    "    \"\"\"Formulate an url that will be sent to openlibrary.org/api'.\n",
    "\n",
    "    Parameters\n",
    "    ----------\n",
    "    ISBN : string\n",
    "        a string of book's ISBN.\n",
    "\n",
    "    Returns\n",
    "    -------\n",
    "    string\n",
    "        An url that will be sent to openlibrary/org/api.\n",
    "\n",
    "    \"\"\"\n",
    "    title = \"+\".join( title.split() )\n",
    "    url = 'https://isbnsearch.org/search?s=' + \\\n",
    "        title\n",
    "\n",
    "    return url\n",
    "\n",
    "\n",
    "def get_ISBN_from_title(title):\n",
    "    h = {'Authorization': '43360_fd60754106422e4ff2600025312a1118'}\n",
    "    title = title.title()\n",
    "    #title = \"%20\".join( title.split() )\n",
    "    resp = requests.get(\"https://api2.isbndb.com/books/{\" \\\n",
    "             +title+\"}\", headers=h)\n",
    "    list_of_resp = []\n",
    "    for x in resp:\n",
    "        print(x)\n",
    "        list_of_resp.append(x)\n",
    "    isbn = (resp_dict.get('isbn13'))\n",
    "    #print(isbn)\n",
    "    return list_of_resp\n",
    "\n",
    "def get_reponse(url):\n",
    "    response = requests.get(url)\n",
    "    print('Acquired following info about the book {}'.format(response.text))\n",
    "    return response.text\n",
    "\n",
    "\n",
    "def extract_ddc(text):\n",
    "    dewey_pattern = re.compile('(\\d{3}/.\\d)')\n",
    "    ddc = dewey_pattern.findall(text)[0]\n",
    "    print('Dewey decimal code of the book is {}'.format(ddc))\n",
    "    return ddc\n",
    "\n",
    "\n",
    "def get_ddc_api(ISBN=None, title=None, author_name=None):\n",
    "    if ISBN:\n",
    "        url = form_url(ISBN)\n",
    "    elif title:\n",
    "        url = form_url_title(title)\n",
    "    else:\n",
    "        url = form_url(author_name)\n",
    "\n",
    "    response = get_reponse(url)\n",
    "    ddc = extract_ddc(response)\n",
    "    return ddc\n"
   ]
  },
  {
   "cell_type": "code",
   "execution_count": 2,
   "metadata": {},
   "outputs": [
    {
     "name": "stdout",
     "output_type": "stream",
     "text": [
      "b'\\n{\\n    \"total\":6744,\\n    \"books\":\\n    [\\n                    {\\n                            \"title\":\"From Silence To Silence\",\\n   '\n",
      "b'                                     \"image\":\"https:\\\\/\\\\/images.isbndb.com\\\\/covers\\\\/06\\\\/13\\\\/9789290420613.jpg\",\\n                 '\n",
      "b'                       \"title_long\":\"From Silence To Silence\",\\n                                        \"date_published\":\"1997\",\\n'\n",
      "b'                                        \"publisher\":\"Federation Of International Poetry Associations\",\\n                         '\n",
      "b'                                       \"authors\":[\"Platthy, Jeno\\xcc\\x8b.\"],\\n                                        \"isbn13\":\"9789290'\n",
      "b'420613\",\\n                                                    \"edition\":\"1\",\\n                                        \"publish_dat'\n",
      "b'e\":\"1997\",\\n                                                    \"isbn\":\"9290420618\"\\n            \\n            \\n                   '\n",
      "b'                 },                    {\\n                            \"title\":\"Between Silence And Silence\",\\n                    '\n",
      "b'                    \"image\":\"https:\\\\/\\\\/images.isbndb.com\\\\/covers\\\\/53\\\\/79\\\\/9781900715379.jpg\",\\n                                  '\n",
      "b'      \"title_long\":\"Between Silence And Silence\",\\n                                        \"date_published\":\"2003\",\\n             '\n",
      "b'                           \"publisher\":\"Peepal Tree Press Ltd.\",\\n                                        \"synopsys\":\"From The Va'\n",
      "b\"ntage Point Of Later Middle Life, Ian Mcdonald's Collection Looks Into The Heart Of Time Passing: The Coming Death Of Ageing Par\"\n",
      "b\"ents, The Old Men, The 'archive' Of A Disappearing Guyana Who Die One By One, The Sight Of 'my Own Lines Of Age' And The Loss Of\"\n",
      "b' Pleasure In The Glittering Carnival Of The Senses. There Are Rich Blessings Of The Arrival Of A New Child Coming Unexpected At '\n",
      "b'This Stage Of Life; And The Consolations From Books And In The Power Of Art To Preserve - At Least For A Time. But The Very Joys'\n",
      "b' Are Made More Piquant By The Inescapable Sense Of The Transitoriness Of All Things--back Cover. Ian Mcdonald. Poems.\",\\n        '\n",
      "b'                                            \"authors\":[\"Ian Mcdonald\"],\\n                                        \"isbn13\":\"978190'\n",
      "b'0715379\",\\n                                        \"msrp\":\"19.95\",\\n                                                    \"publish_d'\n",
      "b'ate\":\"2003\",\\n                                        \"binding\":\"Paperback\",\\n                                        \"isbn\":\"1900'\n",
      "b'715376\"\\n            \\n            \\n                                    },                    {\\n                            \"title'\n",
      "b'\":\"Silence\",\\n                                        \"image\":\"https:\\\\/\\\\/images.isbndb.com\\\\/covers\\\\/28\\\\/68\\\\/9780720612868.jpg\",\\n '\n",
      "b'                                       \"title_long\":\"silence\",\\n                                        \"date_published\":\"April 2'\n",
      "b'007\",\\n                                                                \"subjects\":[\"Fiction\"],\\n                                  '\n",
      "b'      \"authors\":[\"Shusaku Endo\"],\\n                                        \"isbn13\":\"9780720612868\",\\n                            '\n",
      "b'                        \"edition\":\"New edition\",\\n                                        \"publish_date\":\"2007-04-01\",\\n          '\n",
      "b'                              \"binding\":\"Paperback\",\\n                                        \"isbn\":\"0720612861\"\\n            \\n  '\n",
      "b'          \\n                                    },                    {\\n                            \"title\":\"Silence\",\\n          '\n",
      "b'                              \"image\":\"https:\\\\/\\\\/images.isbndb.com\\\\/covers\\\\/68\\\\/97\\\\/9780224006897.jpg\",\\n                        '\n",
      "b'                \"title_long\":\"Silence\",\\n                                        \"date_published\":\"1972\",\\n                       '\n",
      "b'                 \"publisher\":\"Cape\",\\n                                                                \"authors\":[\"James Kennaway\"'\n",
      "b'],\\n                                        \"isbn13\":\"9780224006897\",\\n                                                           '\n",
      "b'     \"publish_date\":\"1972\",\\n                                        \"binding\":\"Hardcover\",\\n                                     '\n",
      "b'   \"isbn\":\"0224006894\"\\n            \\n            \\n                                    },                    {\\n                   '\n",
      "b'         \"title\":\"Silence\",\\n                                        \"image\":\"https:\\\\/\\\\/images.isbndb.com\\\\/covers\\\\/53\\\\/56\\\\/978087'\n",
      "b'0115356.jpg\",\\n                                        \"title_long\":\"Silence\",\\n                                        \"date_publ'\n",
      "b'ished\":\"1982\",\\n                                        \"publisher\":\"Kodansha International, Ltd.\",\\n                             '\n",
      "b'                                   \"authors\":[\"Shusaku Endo\"],\\n                                        \"isbn13\":\"9780870115356\",'\n",
      "b'\\n                                                                \"publish_date\":\"1982\",\\n                                        '\n",
      "b'\"binding\":\"Hardcover\",\\n                                        \"isbn\":\"0870115359\"\\n            \\n            \\n                   '\n",
      "b'                 },                    {\\n                            \"title\":\"Silence\",\\n                                        '\n",
      "b'\"image\":\"https:\\\\/\\\\/images.isbndb.com\\\\/covers\\\\/13\\\\/71\\\\/9781433811371.jpg\",\\n                                        \"title_long\":\"'\n",
      "b'silence\",\\n                                        \"date_published\":\"2012\",\\n                                        \"publisher\":\"'\n",
      "b'MAGINATION PR\",\\n                                                    \"subjects\":[\"Children\\'s Fiction\",\"Concepts\"],\\n              '\n",
      "b'                          \"authors\":[\"Lemniscates\"],\\n                                        \"isbn13\":\"9781433811371\",\\n         '\n",
      "b'                                           \"edition\":\"1\",\\n                                        \"publish_date\":\"2012-03-15\",\\n '\n",
      "b'                                       \"binding\":\"Hardcover\",\\n                                        \"isbn\":\"1433811375\"\\n      '\n",
      "b'      \\n            \\n                                    },                    {\\n                            \"title\":\"Silence\",\\n '\n",
      "b'                                       \"image\":\"https:\\\\/\\\\/images.isbndb.com\\\\/covers\\\\/52\\\\/57\\\\/9782264035257.jpg\",\\n               '\n",
      "b'                         \"title_long\":\"silence\",\\n                                        \"date_published\":\"2003\\\\/02\\\\/01\",\\n      '\n",
      "b'                                  \"publisher\":\"10\",\\n                                                    \"subjects\":[\"Fiction\",\"H'\n",
      "b'istorical\"],\\n                                        \"authors\":[\"Anne Perry\"],\\n                                        \"isbn13\":'\n",
      "b'\"9782264035257\",\\n                                                    \"edition\":\"GRANDS DETECTIVES\",\\n                            '\n",
      "b'            \"publish_date\":\"2003-01-09\",\\n                                        \"binding\":\"Mass Market Paperback\",\\n            '\n",
      "b'                            \"isbn\":\"2264035250\"\\n            \\n            \\n                                    },                '\n",
      "b'    {\\n                            \"title\":\"Silence\",\\n                                        \"image\":\"https:\\\\/\\\\/images.isbndb.co'\n",
      "b'm\\\\/covers\\\\/06\\\\/90\\\\/9782207280690.jpg\",\\n                                        \"title_long\":\"Silence\",\\n                         '\n",
      "b'               \"date_published\":\"1999\",\\n                                        \"publisher\":\"Michigan State University\",\\n       '\n",
      "b'                                                         \"authors\":[\"Sarah Roche\",\"Mahdi\"],\\n                                    '\n",
      "b'    \"isbn13\":\"9782207280690\",\\n                                                                \"publish_date\":\"1999\",\\n           '\n",
      "b'                             \"binding\":\"Mass Market Paperback\",\\n                                        \"isbn\":\"2207280691\"\\n    '\n",
      "b'        \\n            \\n                                    },                    {\\n                            \"title\":\"Silence\",'\n",
      "b'\\n                                        \"image\":\"https:\\\\/\\\\/images.isbndb.com\\\\/covers\\\\/35\\\\/94\\\\/9781414103594.jpg\",\\n             '\n",
      "b'                           \"title_long\":\"Silence\",\\n                                        \"date_published\":\"2005\",\\n            '\n",
      "b'                            \"publisher\":\"Pleasant Word-a Division Of Winepress Publishing\",\\n                                    '\n",
      "b'                            \"authors\":[\"Lawrence Helms\"],\\n                                        \"isbn13\":\"9781414103594\",\\n    '\n",
      "b'                                    \"msrp\":\"10.99\",\\n                                                    \"publish_date\":\"2005\",\\n '\n",
      "b'                                       \"binding\":\"Paperback\",\\n                                        \"isbn\":\"141410359x\"\\n      '\n",
      "b'      \\n            \\n                                    },                    {\\n                            \"title\":\"Silence\",\\n '\n",
      "b'                                       \"image\":\"https:\\\\/\\\\/images.isbndb.com\\\\/covers\\\\/69\\\\/86\\\\/9788372296986.jpg\",\\n               '\n",
      "b'                         \"title_long\":\"Silence\",\\n                                        \"date_published\":\"2018\",\\n              '\n",
      "b'                          \"publisher\":\"Feeria Young\",\\n                                                                \"authors\":'\n",
      "b'[\"Natasha Preston\"],\\n                                        \"isbn13\":\"9788372296986\",\\n                                         '\n",
      "b'                                   \"binding\":\"Paperback\",\\n                                        \"isbn\":\"8372296987\"\\n          '\n",
      "b'  \\n            \\n                                    },                    {\\n                            \"title\":\"Silence\",\\n     '\n",
      "b'                                   \"image\":\"https:\\\\/\\\\/images.isbndb.com\\\\/covers\\\\/04\\\\/99\\\\/9780595120499.jpg\",\\n                   '\n",
      "b'                     \"title_long\":\"Silence\",\\n                                        \"date_published\":\"2000\",\\n                  '\n",
      "b'                      \"publisher\":\"Iuniverse\",\\n                                                                \"authors\":[\"Thoma'\n",
      "b's Amo\"],\\n                                        \"isbn13\":\"9780595120499\",\\n                                        \"msrp\":\"12.95'\n",
      "b'\",\\n                                                    \"publish_date\":\"2000\",\\n                                        \"binding\":'\n",
      "b'\"Paperback\",\\n                                        \"isbn\":\"0595120490\"\\n            \\n            \\n                             '\n",
      "b'       },                    {\\n                            \"title\":\"Silence\",\\n                                        \"image\":\"h'\n",
      "b'ttps:\\\\/\\\\/images.isbndb.com\\\\/covers\\\\/93\\\\/78\\\\/9782213619378.jpg\",\\n                                        \"title_long\":\"Silence\",\\n'\n",
      "b'                                        \"date_published\":\"2004\",\\n                                        \"publisher\":\"Fayard\",\\n '\n",
      "b'                                       \"synopsys\":\"Evelyne Sullerot.\",\\n                                                    \"auth'\n",
      "b'ors\":[\"Evelyne Sullerot\"],\\n                                        \"isbn13\":\"9782213619378\",\\n                                   '\n",
      "b'                             \"publish_date\":\"2004\",\\n                                        \"binding\":\"Paperback\",\\n             '\n",
      "b'                           \"isbn\":\"2213619379\"\\n            \\n            \\n                                    },                 '\n",
      "b'   {\\n                            \"title\":\"Silence\",\\n                                        \"image\":\"https:\\\\/\\\\/images.isbndb.com'\n",
      "b'\\\\/covers\\\\/32\\\\/37\\\\/9789994533237.jpg\",\\n                                        \"title_long\":\"Silence\",\\n                          '\n",
      "b'              \"date_published\":\"1994\",\\n                                        \"publisher\":\"Credence Cassettes\",\\n               '\n",
      "b'                                                 \"authors\":[\"Thomas Merton\"],\\n                                        \"isbn13\":\"'\n",
      "b'9789994533237\",\\n                                        \"msrp\":\"8.95\",\\n                                                    \"publ'\n",
      "b'ish_date\":\"1994\",\\n                                        \"binding\":\"Audio Cassette\",\\n                                        \"i'\n",
      "b'sbn\":\"9994533231\"\\n            \\n            \\n                                    },                    {\\n                        '\n",
      "b'    \"title\":\"Silence\",\\n                                        \"image\":\"https:\\\\/\\\\/images.isbndb.com\\\\/covers\\\\/80\\\\/31\\\\/97819065580'\n",
      "b'31.jpg\",\\n                                        \"title_long\":\"Silence\",\\n                                        \"date_published'\n",
      "b'\":\"2008\",\\n                                        \"publisher\":\"Legend Press Ltd\",\\n                                              '\n",
      "b'                  \"authors\":[\"Josie Henley-einion\"],\\n                                        \"isbn13\":\"9781906558031\",\\n         '\n",
      "b'                                                       \"publish_date\":\"2008\",\\n                                        \"binding\":'\n",
      "b'\"Paperback\",\\n                                        \"isbn\":\"1906558035\"\\n            \\n            \\n                             '\n",
      "b'       },                    {\\n                            \"title\":\"Silence\",\\n                                        \"image\":\"h'\n",
      "b'ttps:\\\\/\\\\/images.isbndb.com\\\\/covers\\\\/52\\\\/77\\\\/9780595005277.jpg\",\\n                                        \"title_long\":\"Silence\",\\n'\n",
      "b'                                        \"date_published\":\"2000\",\\n                                        \"publisher\":\"Iuniverse\"'\n",
      "b',\\n                                                                \"authors\":[\"Isaac J. Myers Ii\"],\\n                             '\n",
      "b'           \"isbn13\":\"9780595005277\",\\n                                        \"msrp\":\"14.95\",\\n                                   '\n",
      "b'                 \"publish_date\":\"2000\",\\n                                        \"binding\":\"Paperback\",\\n                         '\n",
      "b'               \"isbn\":\"0595005276\"\\n            \\n            \\n                                    },                    {\\n       '\n",
      "b'                     \"title\":\"Silence\",\\n                                        \"image\":\"https:\\\\/\\\\/images.isbndb.com\\\\/covers\\\\/08'\n",
      "b'\\\\/48\\\\/9781481400848.jpg\",\\n                                        \"title_long\":\"Silence\",\\n                                      '\n",
      "b'  \"date_published\":\"2013\",\\n                                        \"publisher\":\"Simon & Schuster Books For Young Readers\",\\n     '\n",
      "b'                                                           \"authors\":[\"Becca Fitzpatrick\"],\\n                                    '\n",
      "b'    \"isbn13\":\"9781481400848\",\\n                                        \"msrp\":\"51.99\",\\n                                          '\n",
      "b'          \"publish_date\":\"2013\",\\n                                        \"binding\":\"Paperback\",\\n                                '\n",
      "b'        \"isbn\":\"1481400843\"\\n            \\n            \\n                                    },                    {\\n              '\n",
      "b'              \"title\":\"Silence\",\\n                                        \"image\":\"https:\\\\/\\\\/images.isbndb.com\\\\/covers\\\\/94\\\\/59\\\\/9'\n",
      "b'780875969459.jpg\",\\n                                        \"title_long\":\"silence\",\\n                                        \"date'\n",
      "b'_published\":\"2001\",\\n                                                                            \"authors\":[\"Christina Feldman\"],'\n",
      "b'\\n                                        \"isbn13\":\"9780875969459\",\\n                                                             '\n",
      "b'                           \"isbn\":\"0875969453\"\\n            \\n            \\n                                    },                 '\n",
      "b'   {\\n                            \"title\":\"Silence\",\\n                                        \"image\":\"https:\\\\/\\\\/images.isbndb.com'\n",
      "b'\\\\/covers\\\\/09\\\\/58\\\\/9781847240958.jpg\",\\n                                        \"title_long\":\"Silence\",\\n                          '\n",
      "b'              \"date_published\":\"2007\",\\n                                        \"publisher\":\"Quercus\",\\n                          '\n",
      "b'                                      \"authors\":[\"Perry Thomas\"],\\n                                        \"isbn13\":\"978184724095'\n",
      "b'8\",\\n                                                                \"publish_date\":\"2007\",\\n                                     '\n",
      "b'   \"binding\":\"Paperback\",\\n                                        \"isbn\":\"184724095x\"\\n            \\n            \\n                '\n",
      "b'                    },                    {\\n                            \"title\":\"Silence\",\\n                                     '\n",
      "b'   \"image\":\"https:\\\\/\\\\/images.isbndb.com\\\\/covers\\\\/22\\\\/90\\\\/9780857072290.jpg\",\\n                                        \"title_long'\n",
      "b'\":\"Silence\",\\n                                        \"date_published\":\"2012\",\\n                                        \"publisher'\n",
      "b'\":\"Simon & Schuster Childrens Books\",\\n                                                                \"authors\":[\"Becca Fitzpatr'\n",
      "b'ick\"],\\n                                        \"isbn13\":\"9780857072290\",\\n                                                       '\n",
      "b'         \"publish_date\":\"2012\",\\n                                        \"binding\":\"Paperback\",\\n                                 '\n",
      "b'       \"isbn\":\"0857072293\"\\n            \\n            \\n                                    },                    {\\n               '\n",
      "b'             \"title\":\"Silence\",\\n                                        \"image\":\"https:\\\\/\\\\/images.isbndb.com\\\\/covers\\\\/77\\\\/94\\\\/97'\n",
      "b'80979357794.jpg\",\\n                                        \"title_long\":\"Silence\",\\n                                        \"date_'\n",
      "b'published\":\"2009\",\\n                                        \"publisher\":\"D Mcnichol, Llc Dba Muslim Writers Publishing\",\\n        '\n",
      "b'                                                        \"authors\":[\"Jamilah Kolocotronis\"],\\n                                    '\n",
      "b'    \"isbn13\":\"9780979357794\",\\n                                        \"msrp\":\"17.95\",\\n                                          '\n",
      "b'          \"publish_date\":\"2009\",\\n                                        \"binding\":\"Paperback\",\\n                                '\n",
      "b'        \"isbn\":\"0979357799\"\\n            \\n            \\n                                    }            ]\\n}'\n"
     ]
    },
    {
     "data": {
      "text/plain": [
       "[b'\\n{\\n    \"total\":6744,\\n    \"books\":\\n    [\\n                    {\\n                            \"title\":\"From Silence To Silence\",\\n   ',\n",
       " b'                                     \"image\":\"https:\\\\/\\\\/images.isbndb.com\\\\/covers\\\\/06\\\\/13\\\\/9789290420613.jpg\",\\n                 ',\n",
       " b'                       \"title_long\":\"From Silence To Silence\",\\n                                        \"date_published\":\"1997\",\\n',\n",
       " b'                                        \"publisher\":\"Federation Of International Poetry Associations\",\\n                         ',\n",
       " b'                                       \"authors\":[\"Platthy, Jeno\\xcc\\x8b.\"],\\n                                        \"isbn13\":\"9789290',\n",
       " b'420613\",\\n                                                    \"edition\":\"1\",\\n                                        \"publish_dat',\n",
       " b'e\":\"1997\",\\n                                                    \"isbn\":\"9290420618\"\\n            \\n            \\n                   ',\n",
       " b'                 },                    {\\n                            \"title\":\"Between Silence And Silence\",\\n                    ',\n",
       " b'                    \"image\":\"https:\\\\/\\\\/images.isbndb.com\\\\/covers\\\\/53\\\\/79\\\\/9781900715379.jpg\",\\n                                  ',\n",
       " b'      \"title_long\":\"Between Silence And Silence\",\\n                                        \"date_published\":\"2003\",\\n             ',\n",
       " b'                           \"publisher\":\"Peepal Tree Press Ltd.\",\\n                                        \"synopsys\":\"From The Va',\n",
       " b\"ntage Point Of Later Middle Life, Ian Mcdonald's Collection Looks Into The Heart Of Time Passing: The Coming Death Of Ageing Par\",\n",
       " b\"ents, The Old Men, The 'archive' Of A Disappearing Guyana Who Die One By One, The Sight Of 'my Own Lines Of Age' And The Loss Of\",\n",
       " b' Pleasure In The Glittering Carnival Of The Senses. There Are Rich Blessings Of The Arrival Of A New Child Coming Unexpected At ',\n",
       " b'This Stage Of Life; And The Consolations From Books And In The Power Of Art To Preserve - At Least For A Time. But The Very Joys',\n",
       " b' Are Made More Piquant By The Inescapable Sense Of The Transitoriness Of All Things--back Cover. Ian Mcdonald. Poems.\",\\n        ',\n",
       " b'                                            \"authors\":[\"Ian Mcdonald\"],\\n                                        \"isbn13\":\"978190',\n",
       " b'0715379\",\\n                                        \"msrp\":\"19.95\",\\n                                                    \"publish_d',\n",
       " b'ate\":\"2003\",\\n                                        \"binding\":\"Paperback\",\\n                                        \"isbn\":\"1900',\n",
       " b'715376\"\\n            \\n            \\n                                    },                    {\\n                            \"title',\n",
       " b'\":\"Silence\",\\n                                        \"image\":\"https:\\\\/\\\\/images.isbndb.com\\\\/covers\\\\/28\\\\/68\\\\/9780720612868.jpg\",\\n ',\n",
       " b'                                       \"title_long\":\"silence\",\\n                                        \"date_published\":\"April 2',\n",
       " b'007\",\\n                                                                \"subjects\":[\"Fiction\"],\\n                                  ',\n",
       " b'      \"authors\":[\"Shusaku Endo\"],\\n                                        \"isbn13\":\"9780720612868\",\\n                            ',\n",
       " b'                        \"edition\":\"New edition\",\\n                                        \"publish_date\":\"2007-04-01\",\\n          ',\n",
       " b'                              \"binding\":\"Paperback\",\\n                                        \"isbn\":\"0720612861\"\\n            \\n  ',\n",
       " b'          \\n                                    },                    {\\n                            \"title\":\"Silence\",\\n          ',\n",
       " b'                              \"image\":\"https:\\\\/\\\\/images.isbndb.com\\\\/covers\\\\/68\\\\/97\\\\/9780224006897.jpg\",\\n                        ',\n",
       " b'                \"title_long\":\"Silence\",\\n                                        \"date_published\":\"1972\",\\n                       ',\n",
       " b'                 \"publisher\":\"Cape\",\\n                                                                \"authors\":[\"James Kennaway\"',\n",
       " b'],\\n                                        \"isbn13\":\"9780224006897\",\\n                                                           ',\n",
       " b'     \"publish_date\":\"1972\",\\n                                        \"binding\":\"Hardcover\",\\n                                     ',\n",
       " b'   \"isbn\":\"0224006894\"\\n            \\n            \\n                                    },                    {\\n                   ',\n",
       " b'         \"title\":\"Silence\",\\n                                        \"image\":\"https:\\\\/\\\\/images.isbndb.com\\\\/covers\\\\/53\\\\/56\\\\/978087',\n",
       " b'0115356.jpg\",\\n                                        \"title_long\":\"Silence\",\\n                                        \"date_publ',\n",
       " b'ished\":\"1982\",\\n                                        \"publisher\":\"Kodansha International, Ltd.\",\\n                             ',\n",
       " b'                                   \"authors\":[\"Shusaku Endo\"],\\n                                        \"isbn13\":\"9780870115356\",',\n",
       " b'\\n                                                                \"publish_date\":\"1982\",\\n                                        ',\n",
       " b'\"binding\":\"Hardcover\",\\n                                        \"isbn\":\"0870115359\"\\n            \\n            \\n                   ',\n",
       " b'                 },                    {\\n                            \"title\":\"Silence\",\\n                                        ',\n",
       " b'\"image\":\"https:\\\\/\\\\/images.isbndb.com\\\\/covers\\\\/13\\\\/71\\\\/9781433811371.jpg\",\\n                                        \"title_long\":\"',\n",
       " b'silence\",\\n                                        \"date_published\":\"2012\",\\n                                        \"publisher\":\"',\n",
       " b'MAGINATION PR\",\\n                                                    \"subjects\":[\"Children\\'s Fiction\",\"Concepts\"],\\n              ',\n",
       " b'                          \"authors\":[\"Lemniscates\"],\\n                                        \"isbn13\":\"9781433811371\",\\n         ',\n",
       " b'                                           \"edition\":\"1\",\\n                                        \"publish_date\":\"2012-03-15\",\\n ',\n",
       " b'                                       \"binding\":\"Hardcover\",\\n                                        \"isbn\":\"1433811375\"\\n      ',\n",
       " b'      \\n            \\n                                    },                    {\\n                            \"title\":\"Silence\",\\n ',\n",
       " b'                                       \"image\":\"https:\\\\/\\\\/images.isbndb.com\\\\/covers\\\\/52\\\\/57\\\\/9782264035257.jpg\",\\n               ',\n",
       " b'                         \"title_long\":\"silence\",\\n                                        \"date_published\":\"2003\\\\/02\\\\/01\",\\n      ',\n",
       " b'                                  \"publisher\":\"10\",\\n                                                    \"subjects\":[\"Fiction\",\"H',\n",
       " b'istorical\"],\\n                                        \"authors\":[\"Anne Perry\"],\\n                                        \"isbn13\":',\n",
       " b'\"9782264035257\",\\n                                                    \"edition\":\"GRANDS DETECTIVES\",\\n                            ',\n",
       " b'            \"publish_date\":\"2003-01-09\",\\n                                        \"binding\":\"Mass Market Paperback\",\\n            ',\n",
       " b'                            \"isbn\":\"2264035250\"\\n            \\n            \\n                                    },                ',\n",
       " b'    {\\n                            \"title\":\"Silence\",\\n                                        \"image\":\"https:\\\\/\\\\/images.isbndb.co',\n",
       " b'm\\\\/covers\\\\/06\\\\/90\\\\/9782207280690.jpg\",\\n                                        \"title_long\":\"Silence\",\\n                         ',\n",
       " b'               \"date_published\":\"1999\",\\n                                        \"publisher\":\"Michigan State University\",\\n       ',\n",
       " b'                                                         \"authors\":[\"Sarah Roche\",\"Mahdi\"],\\n                                    ',\n",
       " b'    \"isbn13\":\"9782207280690\",\\n                                                                \"publish_date\":\"1999\",\\n           ',\n",
       " b'                             \"binding\":\"Mass Market Paperback\",\\n                                        \"isbn\":\"2207280691\"\\n    ',\n",
       " b'        \\n            \\n                                    },                    {\\n                            \"title\":\"Silence\",',\n",
       " b'\\n                                        \"image\":\"https:\\\\/\\\\/images.isbndb.com\\\\/covers\\\\/35\\\\/94\\\\/9781414103594.jpg\",\\n             ',\n",
       " b'                           \"title_long\":\"Silence\",\\n                                        \"date_published\":\"2005\",\\n            ',\n",
       " b'                            \"publisher\":\"Pleasant Word-a Division Of Winepress Publishing\",\\n                                    ',\n",
       " b'                            \"authors\":[\"Lawrence Helms\"],\\n                                        \"isbn13\":\"9781414103594\",\\n    ',\n",
       " b'                                    \"msrp\":\"10.99\",\\n                                                    \"publish_date\":\"2005\",\\n ',\n",
       " b'                                       \"binding\":\"Paperback\",\\n                                        \"isbn\":\"141410359x\"\\n      ',\n",
       " b'      \\n            \\n                                    },                    {\\n                            \"title\":\"Silence\",\\n ',\n",
       " b'                                       \"image\":\"https:\\\\/\\\\/images.isbndb.com\\\\/covers\\\\/69\\\\/86\\\\/9788372296986.jpg\",\\n               ',\n",
       " b'                         \"title_long\":\"Silence\",\\n                                        \"date_published\":\"2018\",\\n              ',\n",
       " b'                          \"publisher\":\"Feeria Young\",\\n                                                                \"authors\":',\n",
       " b'[\"Natasha Preston\"],\\n                                        \"isbn13\":\"9788372296986\",\\n                                         ',\n",
       " b'                                   \"binding\":\"Paperback\",\\n                                        \"isbn\":\"8372296987\"\\n          ',\n",
       " b'  \\n            \\n                                    },                    {\\n                            \"title\":\"Silence\",\\n     ',\n",
       " b'                                   \"image\":\"https:\\\\/\\\\/images.isbndb.com\\\\/covers\\\\/04\\\\/99\\\\/9780595120499.jpg\",\\n                   ',\n",
       " b'                     \"title_long\":\"Silence\",\\n                                        \"date_published\":\"2000\",\\n                  ',\n",
       " b'                      \"publisher\":\"Iuniverse\",\\n                                                                \"authors\":[\"Thoma',\n",
       " b's Amo\"],\\n                                        \"isbn13\":\"9780595120499\",\\n                                        \"msrp\":\"12.95',\n",
       " b'\",\\n                                                    \"publish_date\":\"2000\",\\n                                        \"binding\":',\n",
       " b'\"Paperback\",\\n                                        \"isbn\":\"0595120490\"\\n            \\n            \\n                             ',\n",
       " b'       },                    {\\n                            \"title\":\"Silence\",\\n                                        \"image\":\"h',\n",
       " b'ttps:\\\\/\\\\/images.isbndb.com\\\\/covers\\\\/93\\\\/78\\\\/9782213619378.jpg\",\\n                                        \"title_long\":\"Silence\",\\n',\n",
       " b'                                        \"date_published\":\"2004\",\\n                                        \"publisher\":\"Fayard\",\\n ',\n",
       " b'                                       \"synopsys\":\"Evelyne Sullerot.\",\\n                                                    \"auth',\n",
       " b'ors\":[\"Evelyne Sullerot\"],\\n                                        \"isbn13\":\"9782213619378\",\\n                                   ',\n",
       " b'                             \"publish_date\":\"2004\",\\n                                        \"binding\":\"Paperback\",\\n             ',\n",
       " b'                           \"isbn\":\"2213619379\"\\n            \\n            \\n                                    },                 ',\n",
       " b'   {\\n                            \"title\":\"Silence\",\\n                                        \"image\":\"https:\\\\/\\\\/images.isbndb.com',\n",
       " b'\\\\/covers\\\\/32\\\\/37\\\\/9789994533237.jpg\",\\n                                        \"title_long\":\"Silence\",\\n                          ',\n",
       " b'              \"date_published\":\"1994\",\\n                                        \"publisher\":\"Credence Cassettes\",\\n               ',\n",
       " b'                                                 \"authors\":[\"Thomas Merton\"],\\n                                        \"isbn13\":\"',\n",
       " b'9789994533237\",\\n                                        \"msrp\":\"8.95\",\\n                                                    \"publ',\n",
       " b'ish_date\":\"1994\",\\n                                        \"binding\":\"Audio Cassette\",\\n                                        \"i',\n",
       " b'sbn\":\"9994533231\"\\n            \\n            \\n                                    },                    {\\n                        ',\n",
       " b'    \"title\":\"Silence\",\\n                                        \"image\":\"https:\\\\/\\\\/images.isbndb.com\\\\/covers\\\\/80\\\\/31\\\\/97819065580',\n",
       " b'31.jpg\",\\n                                        \"title_long\":\"Silence\",\\n                                        \"date_published',\n",
       " b'\":\"2008\",\\n                                        \"publisher\":\"Legend Press Ltd\",\\n                                              ',\n",
       " b'                  \"authors\":[\"Josie Henley-einion\"],\\n                                        \"isbn13\":\"9781906558031\",\\n         ',\n",
       " b'                                                       \"publish_date\":\"2008\",\\n                                        \"binding\":',\n",
       " b'\"Paperback\",\\n                                        \"isbn\":\"1906558035\"\\n            \\n            \\n                             ',\n",
       " b'       },                    {\\n                            \"title\":\"Silence\",\\n                                        \"image\":\"h',\n",
       " b'ttps:\\\\/\\\\/images.isbndb.com\\\\/covers\\\\/52\\\\/77\\\\/9780595005277.jpg\",\\n                                        \"title_long\":\"Silence\",\\n',\n",
       " b'                                        \"date_published\":\"2000\",\\n                                        \"publisher\":\"Iuniverse\"',\n",
       " b',\\n                                                                \"authors\":[\"Isaac J. Myers Ii\"],\\n                             ',\n",
       " b'           \"isbn13\":\"9780595005277\",\\n                                        \"msrp\":\"14.95\",\\n                                   ',\n",
       " b'                 \"publish_date\":\"2000\",\\n                                        \"binding\":\"Paperback\",\\n                         ',\n",
       " b'               \"isbn\":\"0595005276\"\\n            \\n            \\n                                    },                    {\\n       ',\n",
       " b'                     \"title\":\"Silence\",\\n                                        \"image\":\"https:\\\\/\\\\/images.isbndb.com\\\\/covers\\\\/08',\n",
       " b'\\\\/48\\\\/9781481400848.jpg\",\\n                                        \"title_long\":\"Silence\",\\n                                      ',\n",
       " b'  \"date_published\":\"2013\",\\n                                        \"publisher\":\"Simon & Schuster Books For Young Readers\",\\n     ',\n",
       " b'                                                           \"authors\":[\"Becca Fitzpatrick\"],\\n                                    ',\n",
       " b'    \"isbn13\":\"9781481400848\",\\n                                        \"msrp\":\"51.99\",\\n                                          ',\n",
       " b'          \"publish_date\":\"2013\",\\n                                        \"binding\":\"Paperback\",\\n                                ',\n",
       " b'        \"isbn\":\"1481400843\"\\n            \\n            \\n                                    },                    {\\n              ',\n",
       " b'              \"title\":\"Silence\",\\n                                        \"image\":\"https:\\\\/\\\\/images.isbndb.com\\\\/covers\\\\/94\\\\/59\\\\/9',\n",
       " b'780875969459.jpg\",\\n                                        \"title_long\":\"silence\",\\n                                        \"date',\n",
       " b'_published\":\"2001\",\\n                                                                            \"authors\":[\"Christina Feldman\"],',\n",
       " b'\\n                                        \"isbn13\":\"9780875969459\",\\n                                                             ',\n",
       " b'                           \"isbn\":\"0875969453\"\\n            \\n            \\n                                    },                 ',\n",
       " b'   {\\n                            \"title\":\"Silence\",\\n                                        \"image\":\"https:\\\\/\\\\/images.isbndb.com',\n",
       " b'\\\\/covers\\\\/09\\\\/58\\\\/9781847240958.jpg\",\\n                                        \"title_long\":\"Silence\",\\n                          ',\n",
       " b'              \"date_published\":\"2007\",\\n                                        \"publisher\":\"Quercus\",\\n                          ',\n",
       " b'                                      \"authors\":[\"Perry Thomas\"],\\n                                        \"isbn13\":\"978184724095',\n",
       " b'8\",\\n                                                                \"publish_date\":\"2007\",\\n                                     ',\n",
       " b'   \"binding\":\"Paperback\",\\n                                        \"isbn\":\"184724095x\"\\n            \\n            \\n                ',\n",
       " b'                    },                    {\\n                            \"title\":\"Silence\",\\n                                     ',\n",
       " b'   \"image\":\"https:\\\\/\\\\/images.isbndb.com\\\\/covers\\\\/22\\\\/90\\\\/9780857072290.jpg\",\\n                                        \"title_long',\n",
       " b'\":\"Silence\",\\n                                        \"date_published\":\"2012\",\\n                                        \"publisher',\n",
       " b'\":\"Simon & Schuster Childrens Books\",\\n                                                                \"authors\":[\"Becca Fitzpatr',\n",
       " b'ick\"],\\n                                        \"isbn13\":\"9780857072290\",\\n                                                       ',\n",
       " b'         \"publish_date\":\"2012\",\\n                                        \"binding\":\"Paperback\",\\n                                 ',\n",
       " b'       \"isbn\":\"0857072293\"\\n            \\n            \\n                                    },                    {\\n               ',\n",
       " b'             \"title\":\"Silence\",\\n                                        \"image\":\"https:\\\\/\\\\/images.isbndb.com\\\\/covers\\\\/77\\\\/94\\\\/97',\n",
       " b'80979357794.jpg\",\\n                                        \"title_long\":\"Silence\",\\n                                        \"date_',\n",
       " b'published\":\"2009\",\\n                                        \"publisher\":\"D Mcnichol, Llc Dba Muslim Writers Publishing\",\\n        ',\n",
       " b'                                                        \"authors\":[\"Jamilah Kolocotronis\"],\\n                                    ',\n",
       " b'    \"isbn13\":\"9780979357794\",\\n                                        \"msrp\":\"17.95\",\\n                                          ',\n",
       " b'          \"publish_date\":\"2009\",\\n                                        \"binding\":\"Paperback\",\\n                                ',\n",
       " b'        \"isbn\":\"0979357799\"\\n            \\n            \\n                                    }            ]\\n}']"
      ]
     },
     "execution_count": 2,
     "metadata": {},
     "output_type": "execute_result"
    }
   ],
   "source": [
    "get_ISBN_from_title(\"Silence\")"
   ]
  },
  {
   "cell_type": "code",
   "execution_count": null,
   "metadata": {},
   "outputs": [],
   "source": [
    "resp_dict = json.loads(resp_str)\n",
    "    isbn = (resp_dict.get('isbn13'))\n",
    "    print(isbn)"
   ]
  },
  {
   "cell_type": "code",
   "execution_count": 32,
   "metadata": {},
   "outputs": [],
   "source": [
    "def get_ISBN_from_title(title):\n",
    "    h = {'Authorization': '43360_fd60754106422e4ff2600025312a1118'}\n",
    "    title = title.title()\n",
    "    #title = \"%20\".join( title.split() )\n",
    "    resp = requests.get(\"https://api2.isbndb.com/books/{\" \\\n",
    "             +title+\"}\", headers=h)\n",
    "    #print(resp)\n",
    "    #(resp.json())\n",
    "    for x in resp.json()['books']:\n",
    "        print (x)\n",
    "        \n",
    "    #resp.dict = json.loads(resp.json())\n",
    "    #print(resp_dict.keys())\n",
    "    \n",
    "    #isbn = (resp_dict.get('isbn13'))\n",
    "    #print(isbn)\n",
    "    return resp.json()['books']"
   ]
  },
  {
   "cell_type": "code",
   "execution_count": 33,
   "metadata": {},
   "outputs": [
    {
     "name": "stdout",
     "output_type": "stream",
     "text": [
      "{'title': 'From Silence To Silence', 'image': 'https://images.isbndb.com/covers/06/13/9789290420613.jpg', 'title_long': 'From Silence To Silence', 'date_published': '1997', 'publisher': 'Federation Of International Poetry Associations', 'authors': ['Platthy, Jenő.'], 'isbn13': '9789290420613', 'edition': '1', 'publish_date': '1997', 'isbn': '9290420618'}\n",
      "{'title': 'Between Silence And Silence', 'image': 'https://images.isbndb.com/covers/53/79/9781900715379.jpg', 'title_long': 'Between Silence And Silence', 'date_published': '2003', 'publisher': 'Peepal Tree Press Ltd.', 'synopsys': \"From The Vantage Point Of Later Middle Life, Ian Mcdonald's Collection Looks Into The Heart Of Time Passing: The Coming Death Of Ageing Parents, The Old Men, The 'archive' Of A Disappearing Guyana Who Die One By One, The Sight Of 'my Own Lines Of Age' And The Loss Of Pleasure In The Glittering Carnival Of The Senses. There Are Rich Blessings Of The Arrival Of A New Child Coming Unexpected At This Stage Of Life; And The Consolations From Books And In The Power Of Art To Preserve - At Least For A Time. But The Very Joys Are Made More Piquant By The Inescapable Sense Of The Transitoriness Of All Things--back Cover. Ian Mcdonald. Poems.\", 'authors': ['Ian Mcdonald'], 'isbn13': '9781900715379', 'msrp': '19.95', 'publish_date': '2003', 'binding': 'Paperback', 'isbn': '1900715376'}\n",
      "{'title': 'Silence', 'image': 'https://images.isbndb.com/covers/06/90/9782207280690.jpg', 'title_long': 'Silence', 'date_published': '1999', 'publisher': 'Michigan State University', 'authors': ['Sarah Roche', 'Mahdi'], 'isbn13': '9782207280690', 'publish_date': '1999', 'binding': 'Mass Market Paperback', 'isbn': '2207280691'}\n",
      "{'title': 'Silence', 'image': 'https://images.isbndb.com/covers/52/57/9782264035257.jpg', 'title_long': 'silence', 'date_published': '2003/02/01', 'publisher': '10', 'subjects': ['Fiction', 'Historical'], 'authors': ['Anne Perry'], 'isbn13': '9782264035257', 'edition': 'GRANDS DETECTIVES', 'publish_date': '2003-01-09', 'binding': 'Mass Market Paperback', 'isbn': '2264035250'}\n",
      "{'title': 'Silence', 'image': 'https://images.isbndb.com/covers/68/97/9780224006897.jpg', 'title_long': 'Silence', 'date_published': '1972', 'publisher': 'Cape', 'authors': ['James Kennaway'], 'isbn13': '9780224006897', 'publish_date': '1972', 'binding': 'Hardcover', 'isbn': '0224006894'}\n",
      "{'title': 'Silence', 'image': 'https://images.isbndb.com/covers/69/86/9788372296986.jpg', 'title_long': 'Silence', 'date_published': '2018', 'publisher': 'Feeria Young', 'authors': ['Natasha Preston'], 'isbn13': '9788372296986', 'binding': 'Paperback', 'isbn': '8372296987'}\n",
      "{'title': 'Silence', 'image': 'https://images.isbndb.com/covers/04/99/9780595120499.jpg', 'title_long': 'Silence', 'date_published': '2000', 'publisher': 'Iuniverse', 'authors': ['Thomas Amo'], 'isbn13': '9780595120499', 'msrp': '12.95', 'publish_date': '2000', 'binding': 'Paperback', 'isbn': '0595120490'}\n",
      "{'title': 'Silence', 'image': 'https://images.isbndb.com/covers/13/71/9781433811371.jpg', 'title_long': 'silence', 'date_published': '2012', 'publisher': 'MAGINATION PR', 'subjects': [\"Children's Fiction\", 'Concepts'], 'authors': ['Lemniscates'], 'isbn13': '9781433811371', 'edition': '1', 'publish_date': '2012-03-15', 'binding': 'Hardcover', 'isbn': '1433811375'}\n",
      "{'title': 'Silence', 'image': 'https://images.isbndb.com/covers/53/56/9780870115356.jpg', 'title_long': 'Silence', 'date_published': '1982', 'publisher': 'Kodansha International, Ltd.', 'authors': ['Shusaku Endo'], 'isbn13': '9780870115356', 'publish_date': '1982', 'binding': 'Hardcover', 'isbn': '0870115359'}\n",
      "{'title': 'Silence', 'image': 'https://images.isbndb.com/covers/28/68/9780720612868.jpg', 'title_long': 'silence', 'date_published': 'April 2007', 'subjects': ['Fiction'], 'authors': ['Shusaku Endo'], 'isbn13': '9780720612868', 'edition': 'New edition', 'publish_date': '2007-04-01', 'binding': 'Paperback', 'isbn': '0720612861'}\n",
      "{'title': 'Silence', 'image': 'https://images.isbndb.com/covers/08/48/9781481400848.jpg', 'title_long': 'Silence', 'date_published': '2013', 'publisher': 'Simon & Schuster Books For Young Readers', 'authors': ['Becca Fitzpatrick'], 'isbn13': '9781481400848', 'msrp': '51.99', 'publish_date': '2013', 'binding': 'Paperback', 'isbn': '1481400843'}\n",
      "{'title': 'Silence', 'image': 'https://images.isbndb.com/covers/94/59/9780875969459.jpg', 'title_long': 'silence', 'date_published': '2001', 'authors': ['Christina Feldman'], 'isbn13': '9780875969459', 'isbn': '0875969453'}\n",
      "{'title': 'Silence', 'image': 'https://images.isbndb.com/covers/35/94/9781414103594.jpg', 'title_long': 'Silence', 'date_published': '2005', 'publisher': 'Pleasant Word-a Division Of Winepress Publishing', 'authors': ['Lawrence Helms'], 'isbn13': '9781414103594', 'msrp': '10.99', 'publish_date': '2005', 'binding': 'Paperback', 'isbn': '141410359x'}\n",
      "{'title': 'Silence', 'image': 'https://images.isbndb.com/covers/77/94/9780979357794.jpg', 'title_long': 'Silence', 'date_published': '2009', 'publisher': 'D Mcnichol, Llc Dba Muslim Writers Publishing', 'authors': ['Jamilah Kolocotronis'], 'isbn13': '9780979357794', 'msrp': '17.95', 'publish_date': '2009', 'binding': 'Paperback', 'isbn': '0979357799'}\n",
      "{'title': 'Silence', 'image': 'https://images.isbndb.com/covers/32/37/9789994533237.jpg', 'title_long': 'Silence', 'date_published': '1994', 'publisher': 'Credence Cassettes', 'authors': ['Thomas Merton'], 'isbn13': '9789994533237', 'msrp': '8.95', 'publish_date': '1994', 'binding': 'Audio Cassette', 'isbn': '9994533231'}\n",
      "{'title': 'Silence', 'image': 'https://images.isbndb.com/covers/52/77/9780595005277.jpg', 'title_long': 'Silence', 'date_published': '2000', 'publisher': 'Iuniverse', 'authors': ['Isaac J. Myers Ii'], 'isbn13': '9780595005277', 'msrp': '14.95', 'publish_date': '2000', 'binding': 'Paperback', 'isbn': '0595005276'}\n",
      "{'title': 'Silence', 'image': 'https://images.isbndb.com/covers/80/31/9781906558031.jpg', 'title_long': 'Silence', 'date_published': '2008', 'publisher': 'Legend Press Ltd', 'authors': ['Josie Henley-einion'], 'isbn13': '9781906558031', 'publish_date': '2008', 'binding': 'Paperback', 'isbn': '1906558035'}\n",
      "{'title': 'Silence', 'image': 'https://images.isbndb.com/covers/93/78/9782213619378.jpg', 'title_long': 'Silence', 'date_published': '2004', 'publisher': 'Fayard', 'synopsys': 'Evelyne Sullerot.', 'authors': ['Evelyne Sullerot'], 'isbn13': '9782213619378', 'publish_date': '2004', 'binding': 'Paperback', 'isbn': '2213619379'}\n",
      "{'title': 'Silence', 'image': 'https://images.isbndb.com/covers/09/58/9781847240958.jpg', 'title_long': 'Silence', 'date_published': '2007', 'publisher': 'Quercus', 'authors': ['Perry Thomas'], 'isbn13': '9781847240958', 'publish_date': '2007', 'binding': 'Paperback', 'isbn': '184724095x'}\n",
      "{'title': 'Silence', 'image': 'https://images.isbndb.com/covers/22/90/9780857072290.jpg', 'title_long': 'Silence', 'date_published': '2012', 'publisher': 'Simon & Schuster Childrens Books', 'authors': ['Becca Fitzpatrick'], 'isbn13': '9780857072290', 'publish_date': '2012', 'binding': 'Paperback', 'isbn': '0857072293'}\n"
     ]
    }
   ],
   "source": [
    "results = get_ISBN_from_title(\"Silence\")"
   ]
  },
  {
   "cell_type": "code",
   "execution_count": 67,
   "metadata": {},
   "outputs": [
    {
     "name": "stdout",
     "output_type": "stream",
     "text": [
      "['Platthy, Jenő.']\n",
      "['Ian Mcdonald']\n",
      "['Sarah Roche', 'Mahdi']\n",
      "['Anne Perry']\n",
      "['James Kennaway']\n",
      "['Natasha Preston']\n",
      "['Thomas Amo']\n",
      "['Lemniscates']\n",
      "['Shusaku Endo']\n",
      "['Shusaku Endo']\n",
      "['Becca Fitzpatrick']\n",
      "['Christina Feldman']\n",
      "['Lawrence Helms']\n",
      "['Jamilah Kolocotronis']\n",
      "['Thomas Merton']\n",
      "['Isaac J. Myers Ii']\n",
      "['Josie Henley-einion']\n",
      "['Evelyne Sullerot']\n",
      "['Perry Thomas']\n",
      "['Becca Fitzpatrick']\n",
      "9780720612868\n"
     ]
    }
   ],
   "source": [
    "right = []\n",
    "for x in results:\n",
    "    #print(x)\n",
    "    #print(x['isbn13'])\n",
    "    print(x['authors'])\n",
    "    if 'Shusaku Endo' in x['authors']:\n",
    "        right.append( x['isbn13'])\n",
    "    \n",
    "print(right)"
   ]
  },
  {
   "cell_type": "code",
   "execution_count": 34,
   "metadata": {},
   "outputs": [
    {
     "name": "stdout",
     "output_type": "stream",
     "text": [
      "20\n"
     ]
    }
   ],
   "source": [
    "print(len(results))"
   ]
  },
  {
   "cell_type": "code",
   "execution_count": 59,
   "metadata": {},
   "outputs": [
    {
     "ename": "KeyError",
     "evalue": "'_id'",
     "output_type": "error",
     "traceback": [
      "\u001b[0;31m---------------------------------------------------------------------------\u001b[0m",
      "\u001b[0;31mKeyError\u001b[0m                                  Traceback (most recent call last)",
      "\u001b[0;32m<ipython-input-59-83f486b50d35>\u001b[0m in \u001b[0;36m<module>\u001b[0;34m()\u001b[0m\n\u001b[0;32m----> 1\u001b[0;31m \u001b[0;32mfor\u001b[0m \u001b[0mx\u001b[0m \u001b[0;32min\u001b[0m \u001b[0mids\u001b[0m\u001b[0;34m:\u001b[0m\u001b[0;34m\u001b[0m\u001b[0;34m\u001b[0m\u001b[0m\n\u001b[0m\u001b[1;32m      2\u001b[0m     \u001b[0mprint\u001b[0m\u001b[0;34m(\u001b[0m\u001b[0mx\u001b[0m\u001b[0;34m)\u001b[0m\u001b[0;34m\u001b[0m\u001b[0;34m\u001b[0m\u001b[0m\n",
      "\u001b[0;32m<ipython-input-56-ac3adb9e0258>\u001b[0m in \u001b[0;36m<lambda>\u001b[0;34m(value)\u001b[0m\n\u001b[0;32m----> 1\u001b[0;31m \u001b[0mids\u001b[0m \u001b[0;34m=\u001b[0m \u001b[0mmap\u001b[0m\u001b[0;34m(\u001b[0m\u001b[0;32mlambda\u001b[0m \u001b[0mvalue\u001b[0m\u001b[0;34m:\u001b[0m \u001b[0mvalue\u001b[0m\u001b[0;34m[\u001b[0m\u001b[0;34m'_id'\u001b[0m\u001b[0;34m]\u001b[0m\u001b[0;34m,\u001b[0m \u001b[0mresults\u001b[0m\u001b[0;34m)\u001b[0m\u001b[0;34m\u001b[0m\u001b[0;34m\u001b[0m\u001b[0m\n\u001b[0m",
      "\u001b[0;31mKeyError\u001b[0m: '_id'"
     ]
    }
   ],
   "source": [
    "for x in ids:\n",
    "    print(x)"
   ]
  },
  {
   "cell_type": "code",
   "execution_count": 60,
   "metadata": {},
   "outputs": [
    {
     "ename": "AttributeError",
     "evalue": "'list' object has no attribute 'read'",
     "output_type": "error",
     "traceback": [
      "\u001b[0;31m---------------------------------------------------------------------------\u001b[0m",
      "\u001b[0;31mAttributeError\u001b[0m                            Traceback (most recent call last)",
      "\u001b[0;32m<ipython-input-60-3f68f6864d14>\u001b[0m in \u001b[0;36m<module>\u001b[0;34m()\u001b[0m\n\u001b[0;32m----> 1\u001b[0;31m \u001b[0mdata\u001b[0m \u001b[0;34m=\u001b[0m \u001b[0mjson\u001b[0m\u001b[0;34m.\u001b[0m\u001b[0mload\u001b[0m\u001b[0;34m(\u001b[0m\u001b[0mresults\u001b[0m\u001b[0;34m)\u001b[0m\u001b[0;34m[\u001b[0m\u001b[0;36m1\u001b[0m\u001b[0;34m]\u001b[0m\u001b[0;34m\u001b[0m\u001b[0;34m\u001b[0m\u001b[0m\n\u001b[0m",
      "\u001b[0;32m/usr/local/Cellar/python/3.7.3/Frameworks/Python.framework/Versions/3.7/lib/python3.7/json/__init__.py\u001b[0m in \u001b[0;36mload\u001b[0;34m(fp, cls, object_hook, parse_float, parse_int, parse_constant, object_pairs_hook, **kw)\u001b[0m\n\u001b[1;32m    291\u001b[0m     \u001b[0mkwarg\u001b[0m\u001b[0;34m;\u001b[0m \u001b[0motherwise\u001b[0m\u001b[0;31m \u001b[0m\u001b[0;31m`\u001b[0m\u001b[0;31m`\u001b[0m\u001b[0mJSONDecoder\u001b[0m\u001b[0;31m`\u001b[0m\u001b[0;31m`\u001b[0m \u001b[0;32mis\u001b[0m \u001b[0mused\u001b[0m\u001b[0;34m.\u001b[0m\u001b[0;34m\u001b[0m\u001b[0;34m\u001b[0m\u001b[0m\n\u001b[1;32m    292\u001b[0m     \"\"\"\n\u001b[0;32m--> 293\u001b[0;31m     return loads(fp.read(),\n\u001b[0m\u001b[1;32m    294\u001b[0m         \u001b[0mcls\u001b[0m\u001b[0;34m=\u001b[0m\u001b[0mcls\u001b[0m\u001b[0;34m,\u001b[0m \u001b[0mobject_hook\u001b[0m\u001b[0;34m=\u001b[0m\u001b[0mobject_hook\u001b[0m\u001b[0;34m,\u001b[0m\u001b[0;34m\u001b[0m\u001b[0;34m\u001b[0m\u001b[0m\n\u001b[1;32m    295\u001b[0m         \u001b[0mparse_float\u001b[0m\u001b[0;34m=\u001b[0m\u001b[0mparse_float\u001b[0m\u001b[0;34m,\u001b[0m \u001b[0mparse_int\u001b[0m\u001b[0;34m=\u001b[0m\u001b[0mparse_int\u001b[0m\u001b[0;34m,\u001b[0m\u001b[0;34m\u001b[0m\u001b[0;34m\u001b[0m\u001b[0m\n",
      "\u001b[0;31mAttributeError\u001b[0m: 'list' object has no attribute 'read'"
     ]
    }
   ],
   "source": [
    "data = json.load(results)[1]"
   ]
  },
  {
   "cell_type": "code",
   "execution_count": null,
   "metadata": {},
   "outputs": [],
   "source": [
    "ids = [ e['isnb13'] for e in data ]"
   ]
  },
  {
   "cell_type": "code",
   "execution_count": 35,
   "metadata": {},
   "outputs": [
    {
     "name": "stdout",
     "output_type": "stream",
     "text": [
      "<class 'list'>\n"
     ]
    }
   ],
   "source": [
    "print(type(results))"
   ]
  },
  {
   "cell_type": "code",
   "execution_count": 38,
   "metadata": {},
   "outputs": [
    {
     "data": {
      "text/plain": [
       "{'title': 'Silence',\n",
       " 'image': 'https://images.isbndb.com/covers/69/86/9788372296986.jpg',\n",
       " 'title_long': 'Silence',\n",
       " 'date_published': '2018',\n",
       " 'publisher': 'Feeria Young',\n",
       " 'authors': ['Natasha Preston'],\n",
       " 'isbn13': '9788372296986',\n",
       " 'binding': 'Paperback',\n",
       " 'isbn': '8372296987'}"
      ]
     },
     "execution_count": 38,
     "metadata": {},
     "output_type": "execute_result"
    }
   ],
   "source": [
    "results[5]"
   ]
  },
  {
   "cell_type": "code",
   "execution_count": 47,
   "metadata": {},
   "outputs": [
    {
     "name": "stdout",
     "output_type": "stream",
     "text": [
      "{'From Silence To Silence': {'title': 'From Silence To Silence', 'image': 'https://images.isbndb.com/covers/06/13/9789290420613.jpg', 'title_long': 'From Silence To Silence', 'date_published': '1997', 'publisher': 'Federation Of International Poetry Associations', 'authors': ['Platthy, Jenő.'], 'isbn13': '9789290420613', 'edition': '1', 'publish_date': '1997', 'isbn': '9290420618'}, 'Between Silence And Silence': {'title': 'Between Silence And Silence', 'image': 'https://images.isbndb.com/covers/53/79/9781900715379.jpg', 'title_long': 'Between Silence And Silence', 'date_published': '2003', 'publisher': 'Peepal Tree Press Ltd.', 'synopsys': \"From The Vantage Point Of Later Middle Life, Ian Mcdonald's Collection Looks Into The Heart Of Time Passing: The Coming Death Of Ageing Parents, The Old Men, The 'archive' Of A Disappearing Guyana Who Die One By One, The Sight Of 'my Own Lines Of Age' And The Loss Of Pleasure In The Glittering Carnival Of The Senses. There Are Rich Blessings Of The Arrival Of A New Child Coming Unexpected At This Stage Of Life; And The Consolations From Books And In The Power Of Art To Preserve - At Least For A Time. But The Very Joys Are Made More Piquant By The Inescapable Sense Of The Transitoriness Of All Things--back Cover. Ian Mcdonald. Poems.\", 'authors': ['Ian Mcdonald'], 'isbn13': '9781900715379', 'msrp': '19.95', 'publish_date': '2003', 'binding': 'Paperback', 'isbn': '1900715376'}, 'Silence': {'title': 'Silence', 'image': 'https://images.isbndb.com/covers/06/90/9782207280690.jpg', 'title_long': 'Silence', 'date_published': '1999', 'publisher': 'Michigan State University', 'authors': ['Sarah Roche', 'Mahdi'], 'isbn13': '9782207280690', 'publish_date': '1999', 'binding': 'Mass Market Paperback', 'isbn': '2207280691'}, 'Silence3': {'title': 'Silence', 'image': 'https://images.isbndb.com/covers/52/57/9782264035257.jpg', 'title_long': 'silence', 'date_published': '2003/02/01', 'publisher': '10', 'subjects': ['Fiction', 'Historical'], 'authors': ['Anne Perry'], 'isbn13': '9782264035257', 'edition': 'GRANDS DETECTIVES', 'publish_date': '2003-01-09', 'binding': 'Mass Market Paperback', 'isbn': '2264035250'}, 'Silence4': {'title': 'Silence', 'image': 'https://images.isbndb.com/covers/68/97/9780224006897.jpg', 'title_long': 'Silence', 'date_published': '1972', 'publisher': 'Cape', 'authors': ['James Kennaway'], 'isbn13': '9780224006897', 'publish_date': '1972', 'binding': 'Hardcover', 'isbn': '0224006894'}, 'Silence5': {'title': 'Silence', 'image': 'https://images.isbndb.com/covers/69/86/9788372296986.jpg', 'title_long': 'Silence', 'date_published': '2018', 'publisher': 'Feeria Young', 'authors': ['Natasha Preston'], 'isbn13': '9788372296986', 'binding': 'Paperback', 'isbn': '8372296987'}, 'Silence6': {'title': 'Silence', 'image': 'https://images.isbndb.com/covers/04/99/9780595120499.jpg', 'title_long': 'Silence', 'date_published': '2000', 'publisher': 'Iuniverse', 'authors': ['Thomas Amo'], 'isbn13': '9780595120499', 'msrp': '12.95', 'publish_date': '2000', 'binding': 'Paperback', 'isbn': '0595120490'}, 'Silence7': {'title': 'Silence', 'image': 'https://images.isbndb.com/covers/13/71/9781433811371.jpg', 'title_long': 'silence', 'date_published': '2012', 'publisher': 'MAGINATION PR', 'subjects': [\"Children's Fiction\", 'Concepts'], 'authors': ['Lemniscates'], 'isbn13': '9781433811371', 'edition': '1', 'publish_date': '2012-03-15', 'binding': 'Hardcover', 'isbn': '1433811375'}, 'Silence8': {'title': 'Silence', 'image': 'https://images.isbndb.com/covers/53/56/9780870115356.jpg', 'title_long': 'Silence', 'date_published': '1982', 'publisher': 'Kodansha International, Ltd.', 'authors': ['Shusaku Endo'], 'isbn13': '9780870115356', 'publish_date': '1982', 'binding': 'Hardcover', 'isbn': '0870115359'}, 'Silence9': {'title': 'Silence', 'image': 'https://images.isbndb.com/covers/28/68/9780720612868.jpg', 'title_long': 'silence', 'date_published': 'April 2007', 'subjects': ['Fiction'], 'authors': ['Shusaku Endo'], 'isbn13': '9780720612868', 'edition': 'New edition', 'publish_date': '2007-04-01', 'binding': 'Paperback', 'isbn': '0720612861'}, 'Silence10': {'title': 'Silence', 'image': 'https://images.isbndb.com/covers/08/48/9781481400848.jpg', 'title_long': 'Silence', 'date_published': '2013', 'publisher': 'Simon & Schuster Books For Young Readers', 'authors': ['Becca Fitzpatrick'], 'isbn13': '9781481400848', 'msrp': '51.99', 'publish_date': '2013', 'binding': 'Paperback', 'isbn': '1481400843'}, 'Silence11': {'title': 'Silence', 'image': 'https://images.isbndb.com/covers/94/59/9780875969459.jpg', 'title_long': 'silence', 'date_published': '2001', 'authors': ['Christina Feldman'], 'isbn13': '9780875969459', 'isbn': '0875969453'}, 'Silence12': {'title': 'Silence', 'image': 'https://images.isbndb.com/covers/35/94/9781414103594.jpg', 'title_long': 'Silence', 'date_published': '2005', 'publisher': 'Pleasant Word-a Division Of Winepress Publishing', 'authors': ['Lawrence Helms'], 'isbn13': '9781414103594', 'msrp': '10.99', 'publish_date': '2005', 'binding': 'Paperback', 'isbn': '141410359x'}, 'Silence13': {'title': 'Silence', 'image': 'https://images.isbndb.com/covers/77/94/9780979357794.jpg', 'title_long': 'Silence', 'date_published': '2009', 'publisher': 'D Mcnichol, Llc Dba Muslim Writers Publishing', 'authors': ['Jamilah Kolocotronis'], 'isbn13': '9780979357794', 'msrp': '17.95', 'publish_date': '2009', 'binding': 'Paperback', 'isbn': '0979357799'}, 'Silence14': {'title': 'Silence', 'image': 'https://images.isbndb.com/covers/32/37/9789994533237.jpg', 'title_long': 'Silence', 'date_published': '1994', 'publisher': 'Credence Cassettes', 'authors': ['Thomas Merton'], 'isbn13': '9789994533237', 'msrp': '8.95', 'publish_date': '1994', 'binding': 'Audio Cassette', 'isbn': '9994533231'}, 'Silence15': {'title': 'Silence', 'image': 'https://images.isbndb.com/covers/52/77/9780595005277.jpg', 'title_long': 'Silence', 'date_published': '2000', 'publisher': 'Iuniverse', 'authors': ['Isaac J. Myers Ii'], 'isbn13': '9780595005277', 'msrp': '14.95', 'publish_date': '2000', 'binding': 'Paperback', 'isbn': '0595005276'}, 'Silence16': {'title': 'Silence', 'image': 'https://images.isbndb.com/covers/80/31/9781906558031.jpg', 'title_long': 'Silence', 'date_published': '2008', 'publisher': 'Legend Press Ltd', 'authors': ['Josie Henley-einion'], 'isbn13': '9781906558031', 'publish_date': '2008', 'binding': 'Paperback', 'isbn': '1906558035'}, 'Silence17': {'title': 'Silence', 'image': 'https://images.isbndb.com/covers/93/78/9782213619378.jpg', 'title_long': 'Silence', 'date_published': '2004', 'publisher': 'Fayard', 'synopsys': 'Evelyne Sullerot.', 'authors': ['Evelyne Sullerot'], 'isbn13': '9782213619378', 'publish_date': '2004', 'binding': 'Paperback', 'isbn': '2213619379'}, 'Silence18': {'title': 'Silence', 'image': 'https://images.isbndb.com/covers/09/58/9781847240958.jpg', 'title_long': 'Silence', 'date_published': '2007', 'publisher': 'Quercus', 'authors': ['Perry Thomas'], 'isbn13': '9781847240958', 'publish_date': '2007', 'binding': 'Paperback', 'isbn': '184724095x'}, 'Silence19': {'title': 'Silence', 'image': 'https://images.isbndb.com/covers/22/90/9780857072290.jpg', 'title_long': 'Silence', 'date_published': '2012', 'publisher': 'Simon & Schuster Childrens Books', 'authors': ['Becca Fitzpatrick'], 'isbn13': '9780857072290', 'publish_date': '2012', 'binding': 'Paperback', 'isbn': '0857072293'}}\n"
     ]
    }
   ],
   "source": [
    "dict_of_results = {}\n",
    "for x in range(len(results)):\n",
    "    key = results[x]['title']\n",
    "    value = results[x]\n",
    "    \n",
    "    if x == 0:\n",
    "        dict_of_results[key] = value\n",
    "    elif key not in dict_of_results.keys():\n",
    "        dict_of_results[key] = value\n",
    "    else:\n",
    "        key = str(key) + str(x)\n",
    "        dict_of_results[key] = value\n",
    "print(dict_of_results)"
   ]
  },
  {
   "cell_type": "code",
   "execution_count": 48,
   "metadata": {},
   "outputs": [
    {
     "name": "stdout",
     "output_type": "stream",
     "text": [
      "20\n"
     ]
    }
   ],
   "source": [
    "print(len(dict_of_results))"
   ]
  },
  {
   "cell_type": "code",
   "execution_count": null,
   "metadata": {},
   "outputs": [],
   "source": [
    "for x in dict_of_results:\n",
    "    for y in dict_of_results:\n",
    "        if y == ''"
   ]
  },
  {
   "cell_type": "code",
   "execution_count": 53,
   "metadata": {},
   "outputs": [],
   "source": [
    "isbn = map(lambda value: value['isnb13'], dict_of_results)"
   ]
  },
  {
   "cell_type": "code",
   "execution_count": 54,
   "metadata": {},
   "outputs": [
    {
     "data": {
      "text/plain": [
       "<map at 0x102002780>"
      ]
     },
     "execution_count": 54,
     "metadata": {},
     "output_type": "execute_result"
    }
   ],
   "source": [
    "isbn"
   ]
  },
  {
   "cell_type": "code",
   "execution_count": 55,
   "metadata": {},
   "outputs": [
    {
     "ename": "TypeError",
     "evalue": "string indices must be integers",
     "output_type": "error",
     "traceback": [
      "\u001b[0;31m---------------------------------------------------------------------------\u001b[0m",
      "\u001b[0;31mTypeError\u001b[0m                                 Traceback (most recent call last)",
      "\u001b[0;32m<ipython-input-55-4d1ccc28af15>\u001b[0m in \u001b[0;36m<module>\u001b[0;34m()\u001b[0m\n\u001b[0;32m----> 1\u001b[0;31m \u001b[0;32mfor\u001b[0m \u001b[0mx\u001b[0m \u001b[0;32min\u001b[0m \u001b[0misbn\u001b[0m\u001b[0;34m:\u001b[0m\u001b[0;34m\u001b[0m\u001b[0;34m\u001b[0m\u001b[0m\n\u001b[0m\u001b[1;32m      2\u001b[0m     \u001b[0mprint\u001b[0m\u001b[0;34m(\u001b[0m\u001b[0mx\u001b[0m\u001b[0;34m)\u001b[0m\u001b[0;34m\u001b[0m\u001b[0;34m\u001b[0m\u001b[0m\n",
      "\u001b[0;32m<ipython-input-53-5b4350a272f1>\u001b[0m in \u001b[0;36m<lambda>\u001b[0;34m(value)\u001b[0m\n\u001b[0;32m----> 1\u001b[0;31m \u001b[0misbn\u001b[0m \u001b[0;34m=\u001b[0m \u001b[0mmap\u001b[0m\u001b[0;34m(\u001b[0m\u001b[0;32mlambda\u001b[0m \u001b[0mvalue\u001b[0m\u001b[0;34m:\u001b[0m \u001b[0mvalue\u001b[0m\u001b[0;34m[\u001b[0m\u001b[0;34m'isnb13'\u001b[0m\u001b[0;34m]\u001b[0m\u001b[0;34m,\u001b[0m \u001b[0mdict_of_results\u001b[0m\u001b[0;34m)\u001b[0m\u001b[0;34m\u001b[0m\u001b[0;34m\u001b[0m\u001b[0m\n\u001b[0m",
      "\u001b[0;31mTypeError\u001b[0m: string indices must be integers"
     ]
    }
   ],
   "source": [
    "for x in isbn:\n",
    "    print(x)"
   ]
  },
  {
   "cell_type": "code",
   "execution_count": null,
   "metadata": {},
   "outputs": [],
   "source": []
  }
 ],
 "metadata": {
  "kernelspec": {
   "display_name": "Python 3",
   "language": "python",
   "name": "python3"
  },
  "language_info": {
   "codemirror_mode": {
    "name": "ipython",
    "version": 3
   },
   "file_extension": ".py",
   "mimetype": "text/x-python",
   "name": "python",
   "nbconvert_exporter": "python",
   "pygments_lexer": "ipython3",
   "version": "3.7.3"
  }
 },
 "nbformat": 4,
 "nbformat_minor": 2
}
