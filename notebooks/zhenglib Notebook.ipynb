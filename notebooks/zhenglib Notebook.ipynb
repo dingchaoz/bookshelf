{
 "cells": [
  {
   "cell_type": "code",
   "execution_count": 11,
   "metadata": {},
   "outputs": [],
   "source": [
    "import re\n",
    "\n",
    "import requests\n",
    "\n",
    "import json\n",
    "\n",
    "\n",
    "\n",
    "def form_url_title(title='here is where we meet'):\n",
    "    \"\"\"Formulate an url that will be sent to openlibrary.org/api'.\n",
    "\n",
    "    Parameters\n",
    "    ----------\n",
    "    ISBN : string\n",
    "        a string of book's ISBN.\n",
    "\n",
    "    Returns\n",
    "    -------\n",
    "    string\n",
    "        An url that will be sent to openlibrary/org/api.\n",
    "\n",
    "    \"\"\"\n",
    "    title = \"+\".join( title.split() )\n",
    "    url = 'https://isbnsearch.org/search?s=' + \\\n",
    "        title\n",
    "\n",
    "    return url\n",
    "\n",
    "\n",
    "def get_ISBN_from_title(title):\n",
    "    h = {'Authorization': '43360_fd60754106422e4ff2600025312a1118'}\n",
    "    title = title.title()\n",
    "    #title = \"%20\".join( title.split() )\n",
    "    resp = requests.get(\"https://api2.isbndb.com/books/{\" \\\n",
    "             +title+\"}\", headers=h)\n",
    "    list_of_resp = []\n",
    "    for x in resp:\n",
    "        print(type(x))\n",
    "        list_of_resp.append(x)\n",
    "    #isbn = (list.get('isbn13'))\n",
    "    #print(isbn)\n",
    "    return list_of_resp\n",
    "\n",
    "def get_reponse(url):\n",
    "    response = requests.get(url)\n",
    "    print('Acquired following info about the book {}'.format(response.text))\n",
    "    return response.text\n",
    "\n",
    "\n",
    "def extract_ddc(text):\n",
    "    dewey_pattern = re.compile('(\\d{3}/.\\d)')\n",
    "    ddc = dewey_pattern.findall(text)[0]\n",
    "    print('Dewey decimal code of the book is {}'.format(ddc))\n",
    "    return ddc\n",
    "\n",
    "\n",
    "def get_ddc_api(ISBN=None, title=None, author_name=None):\n",
    "    if ISBN:\n",
    "        url = form_url(ISBN)\n",
    "    elif title:\n",
    "        url = form_url_title(title)\n",
    "    else:\n",
    "        url = form_url(author_name)\n",
    "\n",
    "    response = get_reponse(url)\n",
    "    ddc = extract_ddc(response)\n",
    "    return ddc\n"
   ]
  },
  {
   "cell_type": "code",
   "execution_count": 12,
   "metadata": {},
   "outputs": [
    {
     "name": "stdout",
     "output_type": "stream",
     "text": [
      "<class 'bytes'>\n",
      "<class 'bytes'>\n",
      "<class 'bytes'>\n",
      "<class 'bytes'>\n",
      "<class 'bytes'>\n",
      "<class 'bytes'>\n",
      "<class 'bytes'>\n",
      "<class 'bytes'>\n",
      "<class 'bytes'>\n",
      "<class 'bytes'>\n",
      "<class 'bytes'>\n",
      "<class 'bytes'>\n",
      "<class 'bytes'>\n",
      "<class 'bytes'>\n",
      "<class 'bytes'>\n",
      "<class 'bytes'>\n",
      "<class 'bytes'>\n",
      "<class 'bytes'>\n",
      "<class 'bytes'>\n",
      "<class 'bytes'>\n",
      "<class 'bytes'>\n",
      "<class 'bytes'>\n",
      "<class 'bytes'>\n",
      "<class 'bytes'>\n",
      "<class 'bytes'>\n",
      "<class 'bytes'>\n",
      "<class 'bytes'>\n",
      "<class 'bytes'>\n",
      "<class 'bytes'>\n",
      "<class 'bytes'>\n",
      "<class 'bytes'>\n",
      "<class 'bytes'>\n",
      "<class 'bytes'>\n",
      "<class 'bytes'>\n",
      "<class 'bytes'>\n",
      "<class 'bytes'>\n",
      "<class 'bytes'>\n",
      "<class 'bytes'>\n",
      "<class 'bytes'>\n",
      "<class 'bytes'>\n",
      "<class 'bytes'>\n",
      "<class 'bytes'>\n",
      "<class 'bytes'>\n",
      "<class 'bytes'>\n",
      "<class 'bytes'>\n",
      "<class 'bytes'>\n",
      "<class 'bytes'>\n",
      "<class 'bytes'>\n",
      "<class 'bytes'>\n",
      "<class 'bytes'>\n",
      "<class 'bytes'>\n",
      "<class 'bytes'>\n",
      "<class 'bytes'>\n",
      "<class 'bytes'>\n",
      "<class 'bytes'>\n",
      "<class 'bytes'>\n",
      "<class 'bytes'>\n",
      "<class 'bytes'>\n",
      "<class 'bytes'>\n",
      "<class 'bytes'>\n",
      "<class 'bytes'>\n",
      "<class 'bytes'>\n",
      "<class 'bytes'>\n",
      "<class 'bytes'>\n",
      "<class 'bytes'>\n",
      "<class 'bytes'>\n",
      "<class 'bytes'>\n",
      "<class 'bytes'>\n",
      "<class 'bytes'>\n",
      "<class 'bytes'>\n",
      "<class 'bytes'>\n",
      "<class 'bytes'>\n",
      "<class 'bytes'>\n",
      "<class 'bytes'>\n",
      "<class 'bytes'>\n",
      "<class 'bytes'>\n",
      "<class 'bytes'>\n",
      "<class 'bytes'>\n",
      "<class 'bytes'>\n",
      "<class 'bytes'>\n",
      "<class 'bytes'>\n",
      "<class 'bytes'>\n",
      "<class 'bytes'>\n",
      "<class 'bytes'>\n",
      "<class 'bytes'>\n",
      "<class 'bytes'>\n",
      "<class 'bytes'>\n",
      "<class 'bytes'>\n",
      "<class 'bytes'>\n",
      "<class 'bytes'>\n",
      "<class 'bytes'>\n",
      "<class 'bytes'>\n",
      "<class 'bytes'>\n",
      "<class 'bytes'>\n",
      "<class 'bytes'>\n",
      "<class 'bytes'>\n",
      "<class 'bytes'>\n",
      "<class 'bytes'>\n",
      "<class 'bytes'>\n",
      "<class 'bytes'>\n",
      "<class 'bytes'>\n",
      "<class 'bytes'>\n",
      "<class 'bytes'>\n",
      "<class 'bytes'>\n",
      "<class 'bytes'>\n",
      "<class 'bytes'>\n",
      "<class 'bytes'>\n",
      "<class 'bytes'>\n",
      "<class 'bytes'>\n",
      "<class 'bytes'>\n",
      "<class 'bytes'>\n",
      "<class 'bytes'>\n",
      "<class 'bytes'>\n",
      "<class 'bytes'>\n",
      "<class 'bytes'>\n",
      "<class 'bytes'>\n",
      "<class 'bytes'>\n",
      "<class 'bytes'>\n",
      "<class 'bytes'>\n",
      "<class 'bytes'>\n",
      "<class 'bytes'>\n",
      "<class 'bytes'>\n",
      "<class 'bytes'>\n",
      "<class 'bytes'>\n",
      "<class 'bytes'>\n",
      "<class 'bytes'>\n",
      "<class 'bytes'>\n",
      "<class 'bytes'>\n",
      "<class 'bytes'>\n",
      "<class 'bytes'>\n",
      "<class 'bytes'>\n",
      "<class 'bytes'>\n",
      "<class 'bytes'>\n",
      "<class 'bytes'>\n",
      "<class 'bytes'>\n",
      "<class 'bytes'>\n",
      "<class 'bytes'>\n",
      "<class 'bytes'>\n",
      "<class 'bytes'>\n",
      "<class 'bytes'>\n",
      "<class 'bytes'>\n",
      "<class 'bytes'>\n",
      "<class 'bytes'>\n",
      "<class 'bytes'>\n",
      "<class 'bytes'>\n",
      "<class 'bytes'>\n",
      "<class 'bytes'>\n",
      "<class 'bytes'>\n",
      "<class 'bytes'>\n"
     ]
    },
    {
     "data": {
      "text/plain": [
       "[b'\\n{\\n    \"total\":7767,\\n    \"books\":\\n    [\\n                    {\\n                            \"title\":\"From Silence To Silence\",\\n   ',\n",
       " b'                                     \"image\":\"https:\\\\/\\\\/images.isbndb.com\\\\/covers\\\\/06\\\\/13\\\\/9789290420613.jpg\",\\n                 ',\n",
       " b'                       \"title_long\":\"From Silence To Silence\",\\n                                        \"date_published\":\"1997\",\\n',\n",
       " b'                                        \"publisher\":\"Federation Of International Poetry Associations\",\\n                         ',\n",
       " b'                                       \"authors\":[\"Platthy, Jeno\\xcc\\x8b.\"],\\n                                        \"isbn13\":\"9789290',\n",
       " b'420613\",\\n                                                    \"edition\":\"1\",\\n                                        \"publish_dat',\n",
       " b'e\":\"1997\",\\n                                                    \"isbn\":\"9290420618\"\\n            \\n            \\n                   ',\n",
       " b'                 },                    {\\n                            \"title\":\"Between Silence And Silence\",\\n                    ',\n",
       " b'                    \"image\":\"https:\\\\/\\\\/images.isbndb.com\\\\/covers\\\\/53\\\\/79\\\\/9781900715379.jpg\",\\n                                  ',\n",
       " b'      \"title_long\":\"Between Silence And Silence\",\\n                                        \"date_published\":\"2003\",\\n             ',\n",
       " b'                           \"publisher\":\"Peepal Tree Press Ltd.\",\\n                                        \"synopsys\":\"From The Va',\n",
       " b\"ntage Point Of Later Middle Life, Ian Mcdonald's Collection Looks Into The Heart Of Time Passing: The Coming Death Of Ageing Par\",\n",
       " b\"ents, The Old Men, The 'archive' Of A Disappearing Guyana Who Die One By One, The Sight Of 'my Own Lines Of Age' And The Loss Of\",\n",
       " b' Pleasure In The Glittering Carnival Of The Senses. There Are Rich Blessings Of The Arrival Of A New Child Coming Unexpected At ',\n",
       " b'This Stage Of Life; And The Consolations From Books And In The Power Of Art To Preserve - At Least For A Time. But The Very Joys',\n",
       " b' Are Made More Piquant By The Inescapable Sense Of The Transitoriness Of All Things--back Cover. Ian Mcdonald. Poems.\",\\n        ',\n",
       " b'                                            \"authors\":[\"Ian Mcdonald\"],\\n                                        \"isbn13\":\"978190',\n",
       " b'0715379\",\\n                                        \"msrp\":\"19.95\",\\n                                                    \"publish_d',\n",
       " b'ate\":\"2003\",\\n                                        \"binding\":\"Paperback\",\\n                                        \"isbn\":\"1900',\n",
       " b'715376\"\\n            \\n            \\n                                    },                    {\\n                            \"title',\n",
       " b'\":\"Silence\",\\n                                        \"image\":\"https:\\\\/\\\\/images.isbndb.com\\\\/covers\\\\/18\\\\/91\\\\/9780704331891.jpg\",\\n ',\n",
       " b'                                       \"title_long\":\"Silence\",\\n                                        \"date_published\":\"1976\",\\n',\n",
       " b'                                        \"publisher\":\"Quartet Books Limited\",\\n                                                   ',\n",
       " b'             \"authors\":[\"Shusako Endo\"],\\n                                        \"isbn13\":\"9780704331891\",\\n                     ',\n",
       " b'                                           \"publish_date\":\"1976\",\\n                                        \"binding\":\"Paperback\",',\n",
       " b'\\n                                        \"isbn\":\"0704331896\"\\n            \\n            \\n                                    },   ',\n",
       " b'                 {\\n                            \"title\":\"Silence\",\\n                                        \"image\":\"https:\\\\/\\\\/ima',\n",
       " b'ges.isbndb.com\\\\/covers\\\\/44\\\\/75\\\\/9781400104475.jpg\",\\n                                        \"title_long\":\"silence\",\\n            ',\n",
       " b'                            \"date_published\":\"July 2007\",\\n                                        \"publisher\":\"Tantor Media, Inc',\n",
       " b'.\",\\n                                        \"synopsys\":\"<p><P>Six years ago, Jack Till helped Wendy Harper disappear. But now he',\n",
       " b'r ex-boyfriend and former business partner, Eric Fuller, is being framed for her presumed murder in an effort to smoke her out. ',\n",
       " b'Till must find her before tango-dancing assassins Paul and Sylvie Turner do. Unabridged. 2 MP3 CDs.<\\\\/p><h3>The New York Times -',\n",
       " b' Janet Maslin<\\\\/h3><p><i>Silence<\\\\/i> moves suspensefully from near miss to near miss, with the rival hunters never far from one',\n",
       " b' another in either deductive or geographical terms. That does not make it a terribly eventful book, nor does it yield a compact ',\n",
       " b'one. Longer than usual for its genre, <i>Silence<\\\\/i> takes the richly methodical approach that works so well for Mr. Perry and ',\n",
       " b'remains steadily surprising. Only in his determination to create a two-sided story does the book show any strain. Either team, p',\n",
       " b'articularly the Turners, could have sustained a book alone.<\\\\/p>\",\\n                                        \"subjects\":[\"Fiction\"',\n",
       " b',\"Mystery & Detective\"],\\n                                        \"authors\":[\"Thomas Perry\",\"Michael Kramer\"],\\n                  ',\n",
       " b'                      \"isbn13\":\"9781400104475\",\\n                                                    \"edition\":\"Unabridged\",\\n    ',\n",
       " b'                                    \"publish_date\":\"2007-07-15\",\\n                                        \"binding\":\"Audio CD\",\\n ',\n",
       " b'                                       \"isbn\":\"1400104475\"\\n            \\n            \\n                                    },     ',\n",
       " b'               {\\n                            \"title\":\"Silence\",\\n                                        \"image\":\"https:\\\\/\\\\/image',\n",
       " b's.isbndb.com\\\\/covers\\\\/87\\\\/81\\\\/9780868198781.jpg\",\\n                                        \"title_long\":\"Silence\",\\n              ',\n",
       " b'                          \"date_published\":\"2010\",\\n                                        \"publisher\":\"Currency Press\",\\n       ',\n",
       " b'                                                         \"authors\":[\"Pham\",\"Hoa\"],\\n                                        \"isbn',\n",
       " b'13\":\"9780868198781\",\\n                                                                \"publish_date\":\"2010\",\\n                    ',\n",
       " b'                    \"binding\":\"Paperback\",\\n                                        \"isbn\":\"0868198781\"\\n            \\n            ',\n",
       " b'\\n                                    },                    {\\n                            \"title\":\"Silence\",\\n                    ',\n",
       " b'                    \"image\":\"https:\\\\/\\\\/images.isbndb.com\\\\/covers\\\\/00\\\\/79\\\\/9780720610079.jpg\",\\n                                  ',\n",
       " b'      \"title_long\":\"Silence\",\\n                                        \"date_published\":\"1996\",\\n                                 ',\n",
       " b'       \"publisher\":\"Peter Owen Ltd\",\\n                                                                \"authors\":[\"Shusaku Endo\"],',\n",
       " b'\\n                                        \"isbn13\":\"9780720610079\",\\n                                                             ',\n",
       " b'   \"publish_date\":\"1996\",\\n                                        \"binding\":\"Paperback\",\\n                                       ',\n",
       " b' \"isbn\":\"0720610079\"\\n            \\n            \\n                                    },                    {\\n                     ',\n",
       " b'       \"title\":\"Silence\",\\n                                        \"image\":\"https:\\\\/\\\\/images.isbndb.com\\\\/covers\\\\/41\\\\/69\\\\/97802175',\n",
       " b'54169.jpg\",\\n                                        \"title_long\":\"Silence\",\\n                                        \"date_publis',\n",
       " b'hed\":\"2009\",\\n                                                                            \"authors\":[\"Freeman\",\"Mary Eleanor Wilk',\n",
       " b'ins\"],\\n                                        \"isbn13\":\"9780217554169\",\\n                                                       ',\n",
       " b'         \"publish_date\":\"2009\",\\n                                                    \"isbn\":\"0217554164\"\\n            \\n           ',\n",
       " b' \\n                                    },                    {\\n                            \"title\":\"Silence!\",\\n                  ',\n",
       " b'                      \"image\":\"https:\\\\/\\\\/images.isbndb.com\\\\/covers\\\\/69\\\\/28\\\\/9781481786928.jpg\",\\n                                ',\n",
       " b'        \"title_long\":\"silence\",\\n                                        \"date_published\":\"March 2013\",\\n                         ',\n",
       " b'                                       \"subjects\":[\"Religion\"],\\n                                        \"authors\":[\"Colette Ades',\n",
       " b'ua Nemedia-kuponiyi\"],\\n                                        \"isbn13\":\"9781481786928\",\\n                                       ',\n",
       " b'                                                 \"isbn\":\"148178692X\"\\n            \\n            \\n                                 ',\n",
       " b'   },                    {\\n                            \"title\":\"Silence\",\\n                                        \"image\":\"https',\n",
       " b':\\\\/\\\\/images.isbndb.com\\\\/covers\\\\/13\\\\/64\\\\/9781433811364.jpg\",\\n                                        \"title_long\":\"Silence\",\\n    ',\n",
       " b'                                    \"date_published\":\"2012\",\\n                                        \"publisher\":\"Magination Pr\"',\n",
       " b',\\n                                                                \"authors\":[\"Lemniscates\"],\\n                                   ',\n",
       " b'     \"isbn13\":\"9781433811364\",\\n                                        \"msrp\":\"9.95\",\\n                                        \"e',\n",
       " b'dition\":\"1\",\\n                                        \"publish_date\":\"2012\",\\n                                        \"binding\":\"P',\n",
       " b'aperback\",\\n                                        \"isbn\":\"1433811367\"\\n            \\n            \\n                               ',\n",
       " b'     },                    {\\n                            \"title\":\"Silence\",\\n                                        \"image\":\"htt',\n",
       " b'ps:\\\\/\\\\/images.isbndb.com\\\\/covers\\\\/55\\\\/65\\\\/9780670025565.jpg\",\\n                                        \"title_long\":\"silence\",\\n  ',\n",
       " b'                                      \"date_published\":\"September 2013\",\\n                                                       ',\n",
       " b'         \"subjects\":[\"Religion\"],\\n                                        \"authors\":[\"Diarmaid MacCulloch\"],\\n                   ',\n",
       " b'                     \"isbn13\":\"9780670025565\",\\n                                                    \"edition\":\"First Edition\",\\n  ',\n",
       " b'                                      \"publish_date\":\"2013-09-12\",\\n                                        \"binding\":\"Hardcover\"',\n",
       " b',\\n                                        \"isbn\":\"0670025569\"\\n            \\n            \\n                                    },  ',\n",
       " b'                  {\\n                            \"title\":\"Silence\",\\n                                        \"image\":\"https:\\\\/\\\\/im',\n",
       " b'ages.isbndb.com\\\\/covers\\\\/76\\\\/82\\\\/9783111747682.jpg\",\\n                                        \"title_long\":\"Silence\",\\n           ',\n",
       " b'                             \"date_published\":\"1997\",\\n                                                                          ',\n",
       " b'  \"authors\":[\"Adam Jaworski\"],\\n                                        \"isbn13\":\"9783111747682\",\\n                               ',\n",
       " b'                                 \"publish_date\":\"1997\",\\n                                                    \"isbn\":\"3111747689\"\\n',\n",
       " b'            \\n            \\n                                    },                    {\\n                            \"title\":\"Silen',\n",
       " b'ce\",\\n                                        \"image\":\"https:\\\\/\\\\/images.isbndb.com\\\\/covers\\\\/34\\\\/02\\\\/9781438963402.jpg\",\\n         ',\n",
       " b'                               \"title_long\":\"Silence\",\\n                                        \"date_published\":\"2009\",\\n        ',\n",
       " b'                                \"publisher\":\"Authorhouse\",\\n                                                                \"auth',\n",
       " b'ors\":[\"Sainz Lopez\"],\\n                                        \"isbn13\":\"9781438963402\",\\n                                        ',\n",
       " b'\"msrp\":\"15.95\",\\n                                                    \"publish_date\":\"2009\",\\n                                     ',\n",
       " b'   \"binding\":\"Paperback\",\\n                                        \"isbn\":\"1438963408\"\\n            \\n            \\n                ',\n",
       " b'                    },                    {\\n                            \"title\":\"Silence\",\\n                                     ',\n",
       " b'   \"image\":\"https:\\\\/\\\\/images.isbndb.com\\\\/covers\\\\/13\\\\/20\\\\/9781174941320.jpg\",\\n                                        \"title_long',\n",
       " b'\":\"Silence\",\\n                                        \"date_published\":\"2010\",\\n                                        \"publisher',\n",
       " b'\":\"Nabu Press\",\\n                                                                \"authors\":[\"S Miller 1848-1905 Hageman\"],\\n      ',\n",
       " b'                                  \"isbn13\":\"9781174941320\",\\n                                        \"msrp\":\"19.75\",\\n            ',\n",
       " b'                                        \"publish_date\":\"2010\",\\n                                        \"binding\":\"Paperback\",\\n  ',\n",
       " b'                                      \"isbn\":\"1174941324\"\\n            \\n            \\n                                    },      ',\n",
       " b'              {\\n                            \"title\":\"Silence\",\\n                                        \"image\":\"https:\\\\/\\\\/images',\n",
       " b'.isbndb.com\\\\/covers\\\\/00\\\\/47\\\\/9781141820047.jpg\",\\n                                        \"title_long\":\"Silence\",\\n               ',\n",
       " b'                         \"date_published\":\"2010\",\\n                                        \"publisher\":\"Nabu Press\",\\n            ',\n",
       " b'                                                    \"authors\":[\"Samuel Miller Hageman\"],\\n                                       ',\n",
       " b' \"isbn13\":\"9781141820047\",\\n                                                                \"publish_date\":\"2010\",\\n              ',\n",
       " b'                          \"binding\":\"Paperback\",\\n                                        \"isbn\":\"1141820048\"\\n            \\n      ',\n",
       " b'      \\n                                    },                    {\\n                            \"title\":\"Silence\",\\n              ',\n",
       " b'                          \"image\":\"https:\\\\/\\\\/images.isbndb.com\\\\/covers\\\\/12\\\\/13\\\\/9781455591213.jpg\",\\n                            ',\n",
       " b'            \"title_long\":\"Silence\",\\n                                        \"date_published\":\"2015\",\\n                           ',\n",
       " b'             \"publisher\":\"Grand Central Publishing\",\\n                                                                \"authors\":[',\n",
       " b'\"Shusaku Endo\"],\\n                                        \"isbn13\":\"9781455591213\",\\n                                        \"msrp',\n",
       " b'\":\"15\",\\n                                                    \"publish_date\":\"2015\",\\n                                        \"bind',\n",
       " b'ing\":\"Paperback\",\\n                                        \"isbn\":\"1455591211\"\\n            \\n            \\n                        ',\n",
       " b'            },                    {\\n                            \"title\":\"Silence\",\\n                                        \"imag',\n",
       " b'e\":\"https:\\\\/\\\\/images.isbndb.com\\\\/covers\\\\/45\\\\/12\\\\/9782070414512.jpg\",\\n                                        \"title_long\":\"Silen',\n",
       " b'ce\",\\n                                        \"date_published\":\"2010\",\\n                                                          ',\n",
       " b'                  \"authors\":[\"Shusaku Endo\"],\\n                                        \"isbn13\":\"9782070414512\",\\n                ',\n",
       " b'                                                \"publish_date\":\"2010\",\\n                                        \"binding\":\"Paperb',\n",
       " b'ack\",\\n                                        \"isbn\":\"2070414515\"\\n            \\n            \\n                                    ',\n",
       " b'},                    {\\n                            \"title\":\"Silence\",\\n                                        \"image\":\"https:\\\\/',\n",
       " b'\\\\/images.isbndb.com\\\\/covers\\\\/43\\\\/42\\\\/9781846044342.jpg\",\\n                                        \"title_long\":\"Silence\",\\n       ',\n",
       " b'                                 \"date_published\":\"2015\",\\n                                        \"publisher\":\"Ebury Publishing\"',\n",
       " b',\\n                                                                \"authors\":[\"Rider\"],\\n                                        \"',\n",
       " b'isbn13\":\"9781846044342\",\\n                                                                \"publish_date\":\"2015\",\\n                ',\n",
       " b'                        \"binding\":\"Hardcover\",\\n                                        \"isbn\":\"1846044340\"\\n            \\n        ',\n",
       " b'    \\n                                    },                    {\\n                            \"title\":\"Silence\",\\n                ',\n",
       " b'                        \"image\":\"https:\\\\/\\\\/images.isbndb.com\\\\/covers\\\\/98\\\\/44\\\\/9781447299844.jpg\",\\n                              ',\n",
       " b'          \"title_long\":\"Silence\",\\n                                        \"date_published\":\"2016\",\\n                             ',\n",
       " b'           \"publisher\":\"Picador\",\\n                                        \"synopsys\":\"Now A Major Film.with An Introduction By M',\n",
       " b'artin Scorsesefather Rodrigues Is An Idealistic Portuguese Jesuit Priest Who, In The 1640s, Sets Sail For Japan On A Determined ',\n",
       " b'Mission To Help The Brutally Oppressed Japanese Christians And To Discover The Truth Behind Unthinkable Rumours That His Famous ',\n",
       " b'Teacher Ferreira Has Renounced His Faith. Once Faced With The Realities Of Religious Persecution Rodrigues Himself Is Forced To ',\n",
       " b\"Make An Impossible Choice: Whether To Abandon His Flock Or His God.winner Of The 1966 Tanizaki Prize, Silence Is Shusaku Endo's \",\n",
       " b'Most Highly Acclaimed Novel And A Classic Of Its Genre. It Caused Major Controversy In Japan Following Its Publication In 1967.\"',\n",
       " b',\\n                                                    \"authors\":[\"Shusaku Endo\"],\\n                                        \"isbn1',\n",
       " b'3\":\"9781447299844\",\\n                                                                \"publish_date\":\"2016\",\\n                     ',\n",
       " b'                   \"binding\":\"Paperback\",\\n                                        \"isbn\":\"1447299841\"\\n            \\n            \\n',\n",
       " b'                                    },                    {\\n                            \"title\":\"Silence\",\\n                     ',\n",
       " b'                   \"image\":\"https:\\\\/\\\\/images.isbndb.com\\\\/covers\\\\/34\\\\/96\\\\/9781504663496.jpg\",\\n                                   ',\n",
       " b'     \"title_long\":\"Silence\",\\n                                        \"date_published\":\"2016\",\\n                                  ',\n",
       " b'      \"publisher\":\"Shadow Mountain And Blackstone Audio\",\\n                                                                \"autho',\n",
       " b'rs\":[\"Deborah Lytton\"],\\n                                        \"isbn13\":\"9781504663496\",\\n                                      ',\n",
       " b'                          \"publish_date\":\"2016\",\\n                                        \"binding\":\"Audio Cd\",\\n                 ',\n",
       " b'                       \"isbn\":\"1504663497\"\\n            \\n            \\n                                    },                    {',\n",
       " b'\\n                            \"title\":\"Silence\",\\n                                        \"image\":\"https:\\\\/\\\\/images.isbndb.com\\\\/co',\n",
       " b'vers\\\\/93\\\\/60\\\\/9782207239360.jpg\",\\n                                        \"title_long\":\"Silence\",\\n                              ',\n",
       " b'          \"date_published\":\"1992\",\\n                                        \"publisher\":\"Denoel\",\\n                               ',\n",
       " b'                                 \"authors\":[\"Shusaku Endo\"],\\n                                        \"isbn13\":\"9782207239360\",\\n ',\n",
       " b'                                                               \"publish_date\":\"1992\",\\n                                        \"b',\n",
       " b'inding\":\"Paperback\",\\n                                        \"isbn\":\"2207239365\"\\n            \\n            \\n                     ',\n",
       " b'               }            ]\\n}']"
      ]
     },
     "execution_count": 12,
     "metadata": {},
     "output_type": "execute_result"
    }
   ],
   "source": [
    "get_ISBN_from_title(\"Silence\")"
   ]
  },
  {
   "cell_type": "code",
   "execution_count": null,
   "metadata": {},
   "outputs": [],
   "source": [
    "resp_dict = json.loads(resp_str)\n",
    "    isbn = (resp_dict.get('isbn13'))\n",
    "    print(isbn)"
   ]
  },
  {
   "cell_type": "code",
   "execution_count": 13,
   "metadata": {},
   "outputs": [],
   "source": [
    "def get_ISBN_from_title(title):\n",
    "    h = {'Authorization': '43360_fd60754106422e4ff2600025312a1118'}\n",
    "    title = title.title()\n",
    "    #title = \"%20\".join( title.split() )\n",
    "    resp = requests.get(\"https://api2.isbndb.com/books/{\" \\\n",
    "             +title+\"}\", headers=h)\n",
    "    #print(resp)\n",
    "    #(resp.json())\n",
    "    for x in resp.json()['books']:\n",
    "        print (x)\n",
    "        \n",
    "    #resp.dict = json.loads(resp.json())\n",
    "    #print(resp_dict.keys())\n",
    "    \n",
    "    #isbn = (resp_dict.get('isbn13'))\n",
    "    #print(isbn)\n",
    "    return resp.json()['books']"
   ]
  },
  {
   "cell_type": "code",
   "execution_count": 14,
   "metadata": {},
   "outputs": [
    {
     "name": "stdout",
     "output_type": "stream",
     "text": [
      "{'title': 'From Silence To Silence', 'image': 'https://images.isbndb.com/covers/06/13/9789290420613.jpg', 'title_long': 'From Silence To Silence', 'date_published': '1997', 'publisher': 'Federation Of International Poetry Associations', 'authors': ['Platthy, Jenő.'], 'isbn13': '9789290420613', 'edition': '1', 'publish_date': '1997', 'isbn': '9290420618'}\n",
      "{'title': 'Between Silence And Silence', 'image': 'https://images.isbndb.com/covers/53/79/9781900715379.jpg', 'title_long': 'Between Silence And Silence', 'date_published': '2003', 'publisher': 'Peepal Tree Press Ltd.', 'synopsys': \"From The Vantage Point Of Later Middle Life, Ian Mcdonald's Collection Looks Into The Heart Of Time Passing: The Coming Death Of Ageing Parents, The Old Men, The 'archive' Of A Disappearing Guyana Who Die One By One, The Sight Of 'my Own Lines Of Age' And The Loss Of Pleasure In The Glittering Carnival Of The Senses. There Are Rich Blessings Of The Arrival Of A New Child Coming Unexpected At This Stage Of Life; And The Consolations From Books And In The Power Of Art To Preserve - At Least For A Time. But The Very Joys Are Made More Piquant By The Inescapable Sense Of The Transitoriness Of All Things--back Cover. Ian Mcdonald. Poems.\", 'authors': ['Ian Mcdonald'], 'isbn13': '9781900715379', 'msrp': '19.95', 'publish_date': '2003', 'binding': 'Paperback', 'isbn': '1900715376'}\n",
      "{'title': 'Silence', 'image': 'https://images.isbndb.com/covers/18/91/9780704331891.jpg', 'title_long': 'Silence', 'date_published': '1976', 'publisher': 'Quartet Books Limited', 'authors': ['Shusako Endo'], 'isbn13': '9780704331891', 'publish_date': '1976', 'binding': 'Paperback', 'isbn': '0704331896'}\n",
      "{'title': 'Silence', 'image': 'https://images.isbndb.com/covers/44/75/9781400104475.jpg', 'title_long': 'silence', 'date_published': 'July 2007', 'publisher': 'Tantor Media, Inc.', 'synopsys': '<p><P>Six years ago, Jack Till helped Wendy Harper disappear. But now her ex-boyfriend and former business partner, Eric Fuller, is being framed for her presumed murder in an effort to smoke her out. Till must find her before tango-dancing assassins Paul and Sylvie Turner do. Unabridged. 2 MP3 CDs.</p><h3>The New York Times - Janet Maslin</h3><p><i>Silence</i> moves suspensefully from near miss to near miss, with the rival hunters never far from one another in either deductive or geographical terms. That does not make it a terribly eventful book, nor does it yield a compact one. Longer than usual for its genre, <i>Silence</i> takes the richly methodical approach that works so well for Mr. Perry and remains steadily surprising. Only in his determination to create a two-sided story does the book show any strain. Either team, particularly the Turners, could have sustained a book alone.</p>', 'subjects': ['Fiction', 'Mystery & Detective'], 'authors': ['Thomas Perry', 'Michael Kramer'], 'isbn13': '9781400104475', 'edition': 'Unabridged', 'publish_date': '2007-07-15', 'binding': 'Audio CD', 'isbn': '1400104475'}\n",
      "{'title': 'Silence', 'image': 'https://images.isbndb.com/covers/87/81/9780868198781.jpg', 'title_long': 'Silence', 'date_published': '2010', 'publisher': 'Currency Press', 'authors': ['Pham', 'Hoa'], 'isbn13': '9780868198781', 'publish_date': '2010', 'binding': 'Paperback', 'isbn': '0868198781'}\n",
      "{'title': 'Silence', 'image': 'https://images.isbndb.com/covers/00/79/9780720610079.jpg', 'title_long': 'Silence', 'date_published': '1996', 'publisher': 'Peter Owen Ltd', 'authors': ['Shusaku Endo'], 'isbn13': '9780720610079', 'publish_date': '1996', 'binding': 'Paperback', 'isbn': '0720610079'}\n",
      "{'title': 'Silence', 'image': 'https://images.isbndb.com/covers/41/69/9780217554169.jpg', 'title_long': 'Silence', 'date_published': '2009', 'authors': ['Freeman', 'Mary Eleanor Wilkins'], 'isbn13': '9780217554169', 'publish_date': '2009', 'isbn': '0217554164'}\n",
      "{'title': 'Silence!', 'image': 'https://images.isbndb.com/covers/69/28/9781481786928.jpg', 'title_long': 'silence', 'date_published': 'March 2013', 'subjects': ['Religion'], 'authors': ['Colette Adesua Nemedia-kuponiyi'], 'isbn13': '9781481786928', 'isbn': '148178692X'}\n",
      "{'title': 'Silence', 'image': 'https://images.isbndb.com/covers/13/64/9781433811364.jpg', 'title_long': 'Silence', 'date_published': '2012', 'publisher': 'Magination Pr', 'authors': ['Lemniscates'], 'isbn13': '9781433811364', 'msrp': '9.95', 'edition': '1', 'publish_date': '2012', 'binding': 'Paperback', 'isbn': '1433811367'}\n",
      "{'title': 'Silence', 'image': 'https://images.isbndb.com/covers/55/65/9780670025565.jpg', 'title_long': 'silence', 'date_published': 'September 2013', 'subjects': ['Religion'], 'authors': ['Diarmaid MacCulloch'], 'isbn13': '9780670025565', 'edition': 'First Edition', 'publish_date': '2013-09-12', 'binding': 'Hardcover', 'isbn': '0670025569'}\n",
      "{'title': 'Silence', 'image': 'https://images.isbndb.com/covers/76/82/9783111747682.jpg', 'title_long': 'Silence', 'date_published': '1997', 'authors': ['Adam Jaworski'], 'isbn13': '9783111747682', 'publish_date': '1997', 'isbn': '3111747689'}\n",
      "{'title': 'Silence', 'image': 'https://images.isbndb.com/covers/34/02/9781438963402.jpg', 'title_long': 'Silence', 'date_published': '2009', 'publisher': 'Authorhouse', 'authors': ['Sainz Lopez'], 'isbn13': '9781438963402', 'msrp': '15.95', 'publish_date': '2009', 'binding': 'Paperback', 'isbn': '1438963408'}\n",
      "{'title': 'Silence', 'image': 'https://images.isbndb.com/covers/13/20/9781174941320.jpg', 'title_long': 'Silence', 'date_published': '2010', 'publisher': 'Nabu Press', 'authors': ['S Miller 1848-1905 Hageman'], 'isbn13': '9781174941320', 'msrp': '19.75', 'publish_date': '2010', 'binding': 'Paperback', 'isbn': '1174941324'}\n",
      "{'title': 'Silence', 'image': 'https://images.isbndb.com/covers/00/47/9781141820047.jpg', 'title_long': 'Silence', 'date_published': '2010', 'publisher': 'Nabu Press', 'authors': ['Samuel Miller Hageman'], 'isbn13': '9781141820047', 'publish_date': '2010', 'binding': 'Paperback', 'isbn': '1141820048'}\n",
      "{'title': 'Silence', 'image': 'https://images.isbndb.com/covers/12/13/9781455591213.jpg', 'title_long': 'Silence', 'date_published': '2015', 'publisher': 'Grand Central Publishing', 'authors': ['Shusaku Endo'], 'isbn13': '9781455591213', 'msrp': '15', 'publish_date': '2015', 'binding': 'Paperback', 'isbn': '1455591211'}\n",
      "{'title': 'Silence', 'image': 'https://images.isbndb.com/covers/45/12/9782070414512.jpg', 'title_long': 'Silence', 'date_published': '2010', 'authors': ['Shusaku Endo'], 'isbn13': '9782070414512', 'publish_date': '2010', 'binding': 'Paperback', 'isbn': '2070414515'}\n",
      "{'title': 'Silence', 'image': 'https://images.isbndb.com/covers/43/42/9781846044342.jpg', 'title_long': 'Silence', 'date_published': '2015', 'publisher': 'Ebury Publishing', 'authors': ['Rider'], 'isbn13': '9781846044342', 'publish_date': '2015', 'binding': 'Hardcover', 'isbn': '1846044340'}\n",
      "{'title': 'Silence', 'image': 'https://images.isbndb.com/covers/98/44/9781447299844.jpg', 'title_long': 'Silence', 'date_published': '2016', 'publisher': 'Picador', 'synopsys': \"Now A Major Film.with An Introduction By Martin Scorsesefather Rodrigues Is An Idealistic Portuguese Jesuit Priest Who, In The 1640s, Sets Sail For Japan On A Determined Mission To Help The Brutally Oppressed Japanese Christians And To Discover The Truth Behind Unthinkable Rumours That His Famous Teacher Ferreira Has Renounced His Faith. Once Faced With The Realities Of Religious Persecution Rodrigues Himself Is Forced To Make An Impossible Choice: Whether To Abandon His Flock Or His God.winner Of The 1966 Tanizaki Prize, Silence Is Shusaku Endo's Most Highly Acclaimed Novel And A Classic Of Its Genre. It Caused Major Controversy In Japan Following Its Publication In 1967.\", 'authors': ['Shusaku Endo'], 'isbn13': '9781447299844', 'publish_date': '2016', 'binding': 'Paperback', 'isbn': '1447299841'}\n",
      "{'title': 'Silence', 'image': 'https://images.isbndb.com/covers/34/96/9781504663496.jpg', 'title_long': 'Silence', 'date_published': '2016', 'publisher': 'Shadow Mountain And Blackstone Audio', 'authors': ['Deborah Lytton'], 'isbn13': '9781504663496', 'publish_date': '2016', 'binding': 'Audio Cd', 'isbn': '1504663497'}\n",
      "{'title': 'Silence', 'image': 'https://images.isbndb.com/covers/93/60/9782207239360.jpg', 'title_long': 'Silence', 'date_published': '1992', 'publisher': 'Denoel', 'authors': ['Shusaku Endo'], 'isbn13': '9782207239360', 'publish_date': '1992', 'binding': 'Paperback', 'isbn': '2207239365'}\n"
     ]
    }
   ],
   "source": [
    "results = get_ISBN_from_title(\"Silence\")"
   ]
  },
  {
   "cell_type": "code",
   "execution_count": 22,
   "metadata": {},
   "outputs": [
    {
     "data": {
      "text/plain": [
       "list"
      ]
     },
     "execution_count": 22,
     "metadata": {},
     "output_type": "execute_result"
    }
   ],
   "source": [
    "type(results)"
   ]
  },
  {
   "cell_type": "code",
   "execution_count": 23,
   "metadata": {},
   "outputs": [
    {
     "data": {
      "text/plain": [
       "dict"
      ]
     },
     "execution_count": 23,
     "metadata": {},
     "output_type": "execute_result"
    }
   ],
   "source": [
    "type(results[2])"
   ]
  },
  {
   "cell_type": "code",
   "execution_count": 24,
   "metadata": {},
   "outputs": [
    {
     "data": {
      "text/plain": [
       "dict_keys(['title', 'image', 'title_long', 'date_published', 'publisher', 'authors', 'isbn13', 'publish_date', 'binding', 'isbn'])"
      ]
     },
     "execution_count": 24,
     "metadata": {},
     "output_type": "execute_result"
    }
   ],
   "source": [
    "results[2].keys()"
   ]
  },
  {
   "cell_type": "code",
   "execution_count": 25,
   "metadata": {},
   "outputs": [
    {
     "name": "stdout",
     "output_type": "stream",
     "text": [
      "{'title': 'All The Living', 'image': 'https://images.isbndb.com/covers/99/09/9780027669909.jpg', 'title_long': 'All The Living', 'date_published': '1983', 'publisher': 'Atheneum', 'authors': ['Claudia Mills'], 'isbn13': '9780027669909', 'msrp': '9.95', 'publish_date': '1983', 'binding': 'Hardcover', 'isbn': '0027669904'}\n",
      "{'title': 'All The Living', 'image': 'https://images.isbndb.com/covers/93/24/9780312429324.jpg', 'title_long': 'All The Living', 'date_published': '2010', 'publisher': 'Picador', 'synopsys': \"Moving To A Remote Tobacco Farm That Her Lover Inherited When The Rest Of His Family Was Killed In A Terrible Accident, A Young Woman In 1984 Kentucky Struggles With Their Isolated Life, Her Lover's Grief, And A Budding Friendship With A Dynamic Young Preacher. C.e. Morgan.\", 'authors': ['C. E. Morgan'], 'isbn13': '9780312429324', 'msrp': '19', 'edition': '1', 'publish_date': '2010', 'binding': 'Paperback', 'isbn': '0312429320'}\n",
      "{'title': 'All The Living', 'image': 'https://images.isbndb.com/covers/59/57/9780007305957.jpg', 'title_long': 'All The Living', 'date_published': '2009', 'publisher': 'Ferrar Straus & Giroux', 'authors': ['C.e. Morgan'], 'isbn13': '9780007305957', 'edition': '1', 'publish_date': '2009', 'binding': 'Hardcover', 'isbn': '0007305958'}\n",
      "{'title': 'All The Living', 'image': 'https://images.isbndb.com/covers/51/12/9780553155112.jpg', 'title_long': 'All The Living', 'date_published': '1987', 'publisher': 'Yearling', 'authors': ['Claudia Mills'], 'isbn13': '9780553155112', 'msrp': '2.5', 'publish_date': '1987', 'binding': 'Paperback', 'isbn': '0553155113'}\n",
      "{'title': 'All the Living', 'image': 'https://images.isbndb.com/covers/73/31/9780307397331.jpg', 'title_long': 'all-the-living', 'date_published': 'March 2009', 'publisher': 'Knopf Canada', 'synopsys': \"<p><P>&#8220;A first novel so self-assured and unto itself, so unswerving in its purpose, so strummed through with a peculiar, particular, electrifying sound, that I found myself reading in a state of highest perplexity, and also gratitude and awe.&#8221;&#8212;<i>Chicago Tribune</i></p><h3>The New York Times - Mike Peed</h3><p>Morgan's novel is a whisper of a book, with a striking allegorical agelessness&#8230;and themes of death and mourning skillfully made to chafe those of young love and yearnings for exploration&#8230;Morgan's success, &#8230;comes in her articulations of backwoods Southern speech and in her patient tightening of the story's tension.</p>\", 'subjects': ['Fiction'], 'authors': ['C. E. Morgan'], 'isbn13': '9780307397331', 'edition': '1', 'publish_date': '2009-03-31', 'binding': 'Hardcover', 'isbn': '0307397335'}\n",
      "{'title': 'All The Living', 'image': 'https://images.isbndb.com/covers/73/48/9780307397348.jpg', 'title_long': 'All The Living', 'date_published': '2010', 'publisher': 'Vintage Canada', 'authors': ['C.e. Morgan'], 'isbn13': '9780307397348', 'publish_date': '2010', 'binding': 'Paperback', 'isbn': '0307397343'}\n",
      "{'title': 'All Living', 'image': 'https://images.isbndb.com/covers/22/59/9781618622259.jpg', 'title_long': 'All Living', 'date_published': '2012', 'publisher': 'Tate Publishing', 'authors': ['Michael C. Humphrey'], 'isbn13': '9781618622259', 'msrp': '22.99', 'publish_date': '2012', 'binding': 'Perfect Paperback', 'isbn': '1618622250'}\n",
      "{'title': 'Living All The Memories', 'image': 'https://images.isbndb.com/covers/46/35/9789679694635.jpg', 'title_long': 'Living All The Memories', 'date_published': '1997', 'publisher': 'Berita Pub.', 'authors': ['Miles, Ted.'], 'isbn13': '9789679694635', 'publish_date': '1997', 'isbn': '9679694631'}\n",
      "{'title': 'All about Living', 'image': 'https://images.isbndb.com/covers/57/49/9780557265749.jpg', 'title_long': 'all-about-living', 'date_published': 'February 2010', 'subjects': ['Religion'], 'authors': ['Molly Brogan'], 'isbn13': '9780557265749', 'isbn': '0557265746'}\n",
      "{'title': 'All living things', 'image': 'https://images.isbndb.com/covers/05/68/9780869440568.jpg', 'title_long': 'all_living_things_a01', 'publisher': 'Artarmon, N.S.W. : Antipodean Publishers, 1976.', 'authors': ['Peter Walsh; photography by John Carnemolla; design by Bill Gobbe'], 'isbn13': '9780869440568', 'isbn': '086944056X'}\n",
      "{'title': 'All About Living', 'image': 'https://images.isbndb.com/covers/84/65/9780867608465.jpg', 'publisher': 'Lion Educational', 'authors': ['Smith, Linda C.'], 'isbn13': '9780867608465', 'isbn': '0867608463'}\n",
      "{'title': 'All Living Things', 'image': 'https://images.isbndb.com/covers/05/68/9780869440568.jpg', 'title_long': 'All_living_things_a01', 'publisher': 'Artarmon, N.s.w. : Antipodean Publishers, 1976.', 'authors': ['Peter Walsh; photography by John Carnemolla; design by Bill Gobbe'], 'isbn13': '9780869440568', 'isbn': '086944056x'}\n",
      "{'title': 'All Living Things', 'image': 'https://images.isbndb.com/covers/18/48/9780869441848.jpg', 'title_long': 'All_living_things', 'publisher': 'Artarmon, N.s.w. : Antipodean Publishers, 1976.', 'authors': ['Peter Walsh; photography by John Carnemolla; design by Bill Gobbe'], 'isbn13': '9780869441848', 'isbn': '0869441841'}\n",
      "{'title': 'All About The Living World', 'image': 'https://images.isbndb.com/covers/45/66/9781840844566.jpg', 'title_long': 'All About The Living World', 'date_published': '1999', 'publisher': 'Dempsey Parr', 'authors': ['Steve Parker'], 'isbn13': '9781840844566', 'publish_date': '1999', 'binding': 'Unknown Binding', 'isbn': '1840844566'}\n",
      "{'title': 'The Mother of All Living: A Novel of Africa', 'image': 'https://images.isbndb.com/covers/79/65/9781145917965.jpg', 'title_long': 'the-mother-of-all-living', 'date_published': 'February 2010', 'subjects': ['Fiction'], 'authors': ['Keable', 'Robert'], 'isbn13': '9781145917965', 'isbn': '1145917968'}\n",
      "{'title': 'All The Living: A Novel', 'image': 'https://images.isbndb.com/covers/36/20/9780374103620.jpg', 'title_long': 'All The Living: A Novel', 'date_published': '2009', 'publisher': 'Farrar, Straus And Giroux', 'synopsys': 'C.e. Morgan.', 'authors': ['C. E. Morgan'], 'isbn13': '9780374103620', 'msrp': '23', 'edition': '1', 'publish_date': '2009', 'binding': 'Hardcover', 'isbn': '0374103623'}\n",
      "{'title': 'Living Against All Odds', 'image': 'https://images.isbndb.com/covers/58/85/9781453505885.jpg', 'title_long': 'Living Against All Odds', 'date_published': '2010', 'publisher': 'Xlibris', 'authors': ['Jay) Gordon Gerald (jay) Gordon', 'Gerald (jay) Gordon'], 'isbn13': '9781453505885', 'msrp': '24.99', 'publish_date': '2010', 'binding': 'Hardcover', 'isbn': '1453505881'}\n",
      "{'title': 'For All Living Beings', 'image': 'https://images.isbndb.com/covers/34/01/9781932293401.jpg', 'title_long': 'for-all-living-beings', 'date_published': '2010', 'publisher': \"Buddha's Light Pub\", 'subjects': ['Literary Collections'], 'authors': ['Venerable Master Hsing Yun'], 'isbn13': '9781932293401', 'isbn': '193229340X'}\n",
      "{'title': 'Living Against All Odds', 'image': 'https://images.isbndb.com/covers/58/78/9781453505878.jpg', 'title_long': 'Living Against All Odds', 'date_published': '2010', 'publisher': 'Xlibris, Corp.', 'authors': ['Gerald Gordon'], 'isbn13': '9781453505878', 'msrp': '15.99', 'publish_date': '2010', 'binding': 'Paperback', 'isbn': '1453505873'}\n",
      "{'title': 'Woman, The Mother Of All Living', 'image': 'https://images.isbndb.com/covers/37/32/9780893143732.jpg', 'title_long': 'Woman, The Mother Of All Living', 'date_published': '1987', 'publisher': 'Philosophical Research Society', 'authors': ['Manly P. Hall'], 'isbn13': '9780893143732', 'msrp': '4.95', 'publish_date': '1987', 'binding': 'Paperback', 'isbn': '0893143731'}\n"
     ]
    }
   ],
   "source": [
    "results = get_ISBN_from_title(\"All the living\")"
   ]
  },
  {
   "cell_type": "code",
   "execution_count": 26,
   "metadata": {},
   "outputs": [
    {
     "data": {
      "text/plain": [
       "dict_keys(['title', 'image', 'publisher', 'authors', 'isbn13', 'isbn'])"
      ]
     },
     "execution_count": 26,
     "metadata": {},
     "output_type": "execute_result"
    }
   ],
   "source": [
    "results[10].keys()"
   ]
  },
  {
   "cell_type": "code",
   "execution_count": 68,
   "metadata": {},
   "outputs": [
    {
     "name": "stdout",
     "output_type": "stream",
     "text": [
      "['Platthy, Jenő.']\n",
      "['Ian Mcdonald']\n",
      "['Sarah Roche', 'Mahdi']\n",
      "['Anne Perry']\n",
      "['James Kennaway']\n",
      "['Natasha Preston']\n",
      "['Thomas Amo']\n",
      "['Lemniscates']\n",
      "['Shusaku Endo']\n",
      "['Shusaku Endo']\n",
      "['Becca Fitzpatrick']\n",
      "['Christina Feldman']\n",
      "['Lawrence Helms']\n",
      "['Jamilah Kolocotronis']\n",
      "['Thomas Merton']\n",
      "['Isaac J. Myers Ii']\n",
      "['Josie Henley-einion']\n",
      "['Evelyne Sullerot']\n",
      "['Perry Thomas']\n",
      "['Becca Fitzpatrick']\n",
      "['9780870115356', '9780720612868']\n"
     ]
    }
   ],
   "source": [
    "right = []\n",
    "for x in results:\n",
    "    #print(x)\n",
    "    #print(x['isbn13'])\n",
    "    print(x['authors'])\n",
    "    if 'Shusaku Endo' in x['authors']:\n",
    "        right.append( x['isbn13'])\n",
    "    \n",
    "print(right)"
   ]
  },
  {
   "cell_type": "code",
   "execution_count": 34,
   "metadata": {},
   "outputs": [
    {
     "name": "stdout",
     "output_type": "stream",
     "text": [
      "20\n"
     ]
    }
   ],
   "source": [
    "print(len(results))"
   ]
  },
  {
   "cell_type": "code",
   "execution_count": 59,
   "metadata": {},
   "outputs": [
    {
     "ename": "KeyError",
     "evalue": "'_id'",
     "output_type": "error",
     "traceback": [
      "\u001b[0;31m---------------------------------------------------------------------------\u001b[0m",
      "\u001b[0;31mKeyError\u001b[0m                                  Traceback (most recent call last)",
      "\u001b[0;32m<ipython-input-59-83f486b50d35>\u001b[0m in \u001b[0;36m<module>\u001b[0;34m()\u001b[0m\n\u001b[0;32m----> 1\u001b[0;31m \u001b[0;32mfor\u001b[0m \u001b[0mx\u001b[0m \u001b[0;32min\u001b[0m \u001b[0mids\u001b[0m\u001b[0;34m:\u001b[0m\u001b[0;34m\u001b[0m\u001b[0;34m\u001b[0m\u001b[0m\n\u001b[0m\u001b[1;32m      2\u001b[0m     \u001b[0mprint\u001b[0m\u001b[0;34m(\u001b[0m\u001b[0mx\u001b[0m\u001b[0;34m)\u001b[0m\u001b[0;34m\u001b[0m\u001b[0;34m\u001b[0m\u001b[0m\n",
      "\u001b[0;32m<ipython-input-56-ac3adb9e0258>\u001b[0m in \u001b[0;36m<lambda>\u001b[0;34m(value)\u001b[0m\n\u001b[0;32m----> 1\u001b[0;31m \u001b[0mids\u001b[0m \u001b[0;34m=\u001b[0m \u001b[0mmap\u001b[0m\u001b[0;34m(\u001b[0m\u001b[0;32mlambda\u001b[0m \u001b[0mvalue\u001b[0m\u001b[0;34m:\u001b[0m \u001b[0mvalue\u001b[0m\u001b[0;34m[\u001b[0m\u001b[0;34m'_id'\u001b[0m\u001b[0;34m]\u001b[0m\u001b[0;34m,\u001b[0m \u001b[0mresults\u001b[0m\u001b[0;34m)\u001b[0m\u001b[0;34m\u001b[0m\u001b[0;34m\u001b[0m\u001b[0m\n\u001b[0m",
      "\u001b[0;31mKeyError\u001b[0m: '_id'"
     ]
    }
   ],
   "source": [
    "for x in ids:\n",
    "    print(x)"
   ]
  },
  {
   "cell_type": "code",
   "execution_count": 60,
   "metadata": {},
   "outputs": [
    {
     "ename": "AttributeError",
     "evalue": "'list' object has no attribute 'read'",
     "output_type": "error",
     "traceback": [
      "\u001b[0;31m---------------------------------------------------------------------------\u001b[0m",
      "\u001b[0;31mAttributeError\u001b[0m                            Traceback (most recent call last)",
      "\u001b[0;32m<ipython-input-60-3f68f6864d14>\u001b[0m in \u001b[0;36m<module>\u001b[0;34m()\u001b[0m\n\u001b[0;32m----> 1\u001b[0;31m \u001b[0mdata\u001b[0m \u001b[0;34m=\u001b[0m \u001b[0mjson\u001b[0m\u001b[0;34m.\u001b[0m\u001b[0mload\u001b[0m\u001b[0;34m(\u001b[0m\u001b[0mresults\u001b[0m\u001b[0;34m)\u001b[0m\u001b[0;34m[\u001b[0m\u001b[0;36m1\u001b[0m\u001b[0;34m]\u001b[0m\u001b[0;34m\u001b[0m\u001b[0;34m\u001b[0m\u001b[0m\n\u001b[0m",
      "\u001b[0;32m/usr/local/Cellar/python/3.7.3/Frameworks/Python.framework/Versions/3.7/lib/python3.7/json/__init__.py\u001b[0m in \u001b[0;36mload\u001b[0;34m(fp, cls, object_hook, parse_float, parse_int, parse_constant, object_pairs_hook, **kw)\u001b[0m\n\u001b[1;32m    291\u001b[0m     \u001b[0mkwarg\u001b[0m\u001b[0;34m;\u001b[0m \u001b[0motherwise\u001b[0m\u001b[0;31m \u001b[0m\u001b[0;31m`\u001b[0m\u001b[0;31m`\u001b[0m\u001b[0mJSONDecoder\u001b[0m\u001b[0;31m`\u001b[0m\u001b[0;31m`\u001b[0m \u001b[0;32mis\u001b[0m \u001b[0mused\u001b[0m\u001b[0;34m.\u001b[0m\u001b[0;34m\u001b[0m\u001b[0;34m\u001b[0m\u001b[0m\n\u001b[1;32m    292\u001b[0m     \"\"\"\n\u001b[0;32m--> 293\u001b[0;31m     return loads(fp.read(),\n\u001b[0m\u001b[1;32m    294\u001b[0m         \u001b[0mcls\u001b[0m\u001b[0;34m=\u001b[0m\u001b[0mcls\u001b[0m\u001b[0;34m,\u001b[0m \u001b[0mobject_hook\u001b[0m\u001b[0;34m=\u001b[0m\u001b[0mobject_hook\u001b[0m\u001b[0;34m,\u001b[0m\u001b[0;34m\u001b[0m\u001b[0;34m\u001b[0m\u001b[0m\n\u001b[1;32m    295\u001b[0m         \u001b[0mparse_float\u001b[0m\u001b[0;34m=\u001b[0m\u001b[0mparse_float\u001b[0m\u001b[0;34m,\u001b[0m \u001b[0mparse_int\u001b[0m\u001b[0;34m=\u001b[0m\u001b[0mparse_int\u001b[0m\u001b[0;34m,\u001b[0m\u001b[0;34m\u001b[0m\u001b[0;34m\u001b[0m\u001b[0m\n",
      "\u001b[0;31mAttributeError\u001b[0m: 'list' object has no attribute 'read'"
     ]
    }
   ],
   "source": [
    "data = json.load(results)[1]"
   ]
  },
  {
   "cell_type": "code",
   "execution_count": null,
   "metadata": {},
   "outputs": [],
   "source": [
    "ids = [ e['isnb13'] for e in data ]"
   ]
  },
  {
   "cell_type": "code",
   "execution_count": 35,
   "metadata": {},
   "outputs": [
    {
     "name": "stdout",
     "output_type": "stream",
     "text": [
      "<class 'list'>\n"
     ]
    }
   ],
   "source": [
    "print(type(results))"
   ]
  },
  {
   "cell_type": "code",
   "execution_count": 38,
   "metadata": {},
   "outputs": [
    {
     "data": {
      "text/plain": [
       "{'title': 'Silence',\n",
       " 'image': 'https://images.isbndb.com/covers/69/86/9788372296986.jpg',\n",
       " 'title_long': 'Silence',\n",
       " 'date_published': '2018',\n",
       " 'publisher': 'Feeria Young',\n",
       " 'authors': ['Natasha Preston'],\n",
       " 'isbn13': '9788372296986',\n",
       " 'binding': 'Paperback',\n",
       " 'isbn': '8372296987'}"
      ]
     },
     "execution_count": 38,
     "metadata": {},
     "output_type": "execute_result"
    }
   ],
   "source": [
    "results[5]"
   ]
  },
  {
   "cell_type": "code",
   "execution_count": 47,
   "metadata": {},
   "outputs": [
    {
     "name": "stdout",
     "output_type": "stream",
     "text": [
      "{'From Silence To Silence': {'title': 'From Silence To Silence', 'image': 'https://images.isbndb.com/covers/06/13/9789290420613.jpg', 'title_long': 'From Silence To Silence', 'date_published': '1997', 'publisher': 'Federation Of International Poetry Associations', 'authors': ['Platthy, Jenő.'], 'isbn13': '9789290420613', 'edition': '1', 'publish_date': '1997', 'isbn': '9290420618'}, 'Between Silence And Silence': {'title': 'Between Silence And Silence', 'image': 'https://images.isbndb.com/covers/53/79/9781900715379.jpg', 'title_long': 'Between Silence And Silence', 'date_published': '2003', 'publisher': 'Peepal Tree Press Ltd.', 'synopsys': \"From The Vantage Point Of Later Middle Life, Ian Mcdonald's Collection Looks Into The Heart Of Time Passing: The Coming Death Of Ageing Parents, The Old Men, The 'archive' Of A Disappearing Guyana Who Die One By One, The Sight Of 'my Own Lines Of Age' And The Loss Of Pleasure In The Glittering Carnival Of The Senses. There Are Rich Blessings Of The Arrival Of A New Child Coming Unexpected At This Stage Of Life; And The Consolations From Books And In The Power Of Art To Preserve - At Least For A Time. But The Very Joys Are Made More Piquant By The Inescapable Sense Of The Transitoriness Of All Things--back Cover. Ian Mcdonald. Poems.\", 'authors': ['Ian Mcdonald'], 'isbn13': '9781900715379', 'msrp': '19.95', 'publish_date': '2003', 'binding': 'Paperback', 'isbn': '1900715376'}, 'Silence': {'title': 'Silence', 'image': 'https://images.isbndb.com/covers/06/90/9782207280690.jpg', 'title_long': 'Silence', 'date_published': '1999', 'publisher': 'Michigan State University', 'authors': ['Sarah Roche', 'Mahdi'], 'isbn13': '9782207280690', 'publish_date': '1999', 'binding': 'Mass Market Paperback', 'isbn': '2207280691'}, 'Silence3': {'title': 'Silence', 'image': 'https://images.isbndb.com/covers/52/57/9782264035257.jpg', 'title_long': 'silence', 'date_published': '2003/02/01', 'publisher': '10', 'subjects': ['Fiction', 'Historical'], 'authors': ['Anne Perry'], 'isbn13': '9782264035257', 'edition': 'GRANDS DETECTIVES', 'publish_date': '2003-01-09', 'binding': 'Mass Market Paperback', 'isbn': '2264035250'}, 'Silence4': {'title': 'Silence', 'image': 'https://images.isbndb.com/covers/68/97/9780224006897.jpg', 'title_long': 'Silence', 'date_published': '1972', 'publisher': 'Cape', 'authors': ['James Kennaway'], 'isbn13': '9780224006897', 'publish_date': '1972', 'binding': 'Hardcover', 'isbn': '0224006894'}, 'Silence5': {'title': 'Silence', 'image': 'https://images.isbndb.com/covers/69/86/9788372296986.jpg', 'title_long': 'Silence', 'date_published': '2018', 'publisher': 'Feeria Young', 'authors': ['Natasha Preston'], 'isbn13': '9788372296986', 'binding': 'Paperback', 'isbn': '8372296987'}, 'Silence6': {'title': 'Silence', 'image': 'https://images.isbndb.com/covers/04/99/9780595120499.jpg', 'title_long': 'Silence', 'date_published': '2000', 'publisher': 'Iuniverse', 'authors': ['Thomas Amo'], 'isbn13': '9780595120499', 'msrp': '12.95', 'publish_date': '2000', 'binding': 'Paperback', 'isbn': '0595120490'}, 'Silence7': {'title': 'Silence', 'image': 'https://images.isbndb.com/covers/13/71/9781433811371.jpg', 'title_long': 'silence', 'date_published': '2012', 'publisher': 'MAGINATION PR', 'subjects': [\"Children's Fiction\", 'Concepts'], 'authors': ['Lemniscates'], 'isbn13': '9781433811371', 'edition': '1', 'publish_date': '2012-03-15', 'binding': 'Hardcover', 'isbn': '1433811375'}, 'Silence8': {'title': 'Silence', 'image': 'https://images.isbndb.com/covers/53/56/9780870115356.jpg', 'title_long': 'Silence', 'date_published': '1982', 'publisher': 'Kodansha International, Ltd.', 'authors': ['Shusaku Endo'], 'isbn13': '9780870115356', 'publish_date': '1982', 'binding': 'Hardcover', 'isbn': '0870115359'}, 'Silence9': {'title': 'Silence', 'image': 'https://images.isbndb.com/covers/28/68/9780720612868.jpg', 'title_long': 'silence', 'date_published': 'April 2007', 'subjects': ['Fiction'], 'authors': ['Shusaku Endo'], 'isbn13': '9780720612868', 'edition': 'New edition', 'publish_date': '2007-04-01', 'binding': 'Paperback', 'isbn': '0720612861'}, 'Silence10': {'title': 'Silence', 'image': 'https://images.isbndb.com/covers/08/48/9781481400848.jpg', 'title_long': 'Silence', 'date_published': '2013', 'publisher': 'Simon & Schuster Books For Young Readers', 'authors': ['Becca Fitzpatrick'], 'isbn13': '9781481400848', 'msrp': '51.99', 'publish_date': '2013', 'binding': 'Paperback', 'isbn': '1481400843'}, 'Silence11': {'title': 'Silence', 'image': 'https://images.isbndb.com/covers/94/59/9780875969459.jpg', 'title_long': 'silence', 'date_published': '2001', 'authors': ['Christina Feldman'], 'isbn13': '9780875969459', 'isbn': '0875969453'}, 'Silence12': {'title': 'Silence', 'image': 'https://images.isbndb.com/covers/35/94/9781414103594.jpg', 'title_long': 'Silence', 'date_published': '2005', 'publisher': 'Pleasant Word-a Division Of Winepress Publishing', 'authors': ['Lawrence Helms'], 'isbn13': '9781414103594', 'msrp': '10.99', 'publish_date': '2005', 'binding': 'Paperback', 'isbn': '141410359x'}, 'Silence13': {'title': 'Silence', 'image': 'https://images.isbndb.com/covers/77/94/9780979357794.jpg', 'title_long': 'Silence', 'date_published': '2009', 'publisher': 'D Mcnichol, Llc Dba Muslim Writers Publishing', 'authors': ['Jamilah Kolocotronis'], 'isbn13': '9780979357794', 'msrp': '17.95', 'publish_date': '2009', 'binding': 'Paperback', 'isbn': '0979357799'}, 'Silence14': {'title': 'Silence', 'image': 'https://images.isbndb.com/covers/32/37/9789994533237.jpg', 'title_long': 'Silence', 'date_published': '1994', 'publisher': 'Credence Cassettes', 'authors': ['Thomas Merton'], 'isbn13': '9789994533237', 'msrp': '8.95', 'publish_date': '1994', 'binding': 'Audio Cassette', 'isbn': '9994533231'}, 'Silence15': {'title': 'Silence', 'image': 'https://images.isbndb.com/covers/52/77/9780595005277.jpg', 'title_long': 'Silence', 'date_published': '2000', 'publisher': 'Iuniverse', 'authors': ['Isaac J. Myers Ii'], 'isbn13': '9780595005277', 'msrp': '14.95', 'publish_date': '2000', 'binding': 'Paperback', 'isbn': '0595005276'}, 'Silence16': {'title': 'Silence', 'image': 'https://images.isbndb.com/covers/80/31/9781906558031.jpg', 'title_long': 'Silence', 'date_published': '2008', 'publisher': 'Legend Press Ltd', 'authors': ['Josie Henley-einion'], 'isbn13': '9781906558031', 'publish_date': '2008', 'binding': 'Paperback', 'isbn': '1906558035'}, 'Silence17': {'title': 'Silence', 'image': 'https://images.isbndb.com/covers/93/78/9782213619378.jpg', 'title_long': 'Silence', 'date_published': '2004', 'publisher': 'Fayard', 'synopsys': 'Evelyne Sullerot.', 'authors': ['Evelyne Sullerot'], 'isbn13': '9782213619378', 'publish_date': '2004', 'binding': 'Paperback', 'isbn': '2213619379'}, 'Silence18': {'title': 'Silence', 'image': 'https://images.isbndb.com/covers/09/58/9781847240958.jpg', 'title_long': 'Silence', 'date_published': '2007', 'publisher': 'Quercus', 'authors': ['Perry Thomas'], 'isbn13': '9781847240958', 'publish_date': '2007', 'binding': 'Paperback', 'isbn': '184724095x'}, 'Silence19': {'title': 'Silence', 'image': 'https://images.isbndb.com/covers/22/90/9780857072290.jpg', 'title_long': 'Silence', 'date_published': '2012', 'publisher': 'Simon & Schuster Childrens Books', 'authors': ['Becca Fitzpatrick'], 'isbn13': '9780857072290', 'publish_date': '2012', 'binding': 'Paperback', 'isbn': '0857072293'}}\n"
     ]
    }
   ],
   "source": [
    "dict_of_results = {}\n",
    "for x in range(len(results)):\n",
    "    key = results[x]['title']\n",
    "    value = results[x]\n",
    "    \n",
    "    if x == 0:\n",
    "        dict_of_results[key] = value\n",
    "    elif key not in dict_of_results.keys():\n",
    "        dict_of_results[key] = value\n",
    "    else:\n",
    "        key = str(key) + str(x)\n",
    "        dict_of_results[key] = value\n",
    "print(dict_of_results)"
   ]
  },
  {
   "cell_type": "code",
   "execution_count": 1,
   "metadata": {
    "scrolled": true
   },
   "outputs": [
    {
     "ename": "NameError",
     "evalue": "name 'dict_of_results' is not defined",
     "output_type": "error",
     "traceback": [
      "\u001b[0;31m---------------------------------------------------------------------------\u001b[0m",
      "\u001b[0;31mNameError\u001b[0m                                 Traceback (most recent call last)",
      "\u001b[0;32m<ipython-input-1-2bad7be89719>\u001b[0m in \u001b[0;36m<module>\u001b[0;34m()\u001b[0m\n\u001b[0;32m----> 1\u001b[0;31m \u001b[0mprint\u001b[0m\u001b[0;34m(\u001b[0m\u001b[0mlen\u001b[0m\u001b[0;34m(\u001b[0m\u001b[0mdict_of_results\u001b[0m\u001b[0;34m)\u001b[0m\u001b[0;34m)\u001b[0m\u001b[0;34m\u001b[0m\u001b[0;34m\u001b[0m\u001b[0m\n\u001b[0m",
      "\u001b[0;31mNameError\u001b[0m: name 'dict_of_results' is not defined"
     ]
    }
   ],
   "source": [
    "print(len(dict_of_results))"
   ]
  },
  {
   "cell_type": "code",
   "execution_count": 1,
   "metadata": {},
   "outputs": [],
   "source": [
    "# google_api_image_scrape.py\n",
    "import io\n",
    "import csv\n",
    "from google.cloud import vision\n",
    "\n",
    "def detect_text(path):\n",
    "    \"\"\"Detects text in the file.\"\"\"\n",
    "    \n",
    "    client = vision.ImageAnnotatorClient.from_service_account_json(\n",
    "        'google_api_cred.json')\n",
    "\n",
    "\n",
    "    with io.open(path, 'rb') as image_file:\n",
    "         content = image_file.read()\n",
    "\n",
    "    image = vision.types.Image(content=content)\n",
    "\n",
    "    response = client.text_detection(image=image)\n",
    "    texts = response.text_annotations\n",
    "    if len(texts) > 0:\n",
    "        text = response.text_annotations[0].description\n",
    "    else:\n",
    "        text = None\n",
    "\n",
    "    return text\n",
    "\n",
    "def write_csv_file(input_from_cloud, output_file):\n",
    "\n",
    "    csv_file = output_file\n",
    "    try:\n",
    "        with open(csv_file, 'w') as csvfile:\n",
    "            writer = csv.writer(csvfile)\n",
    "            for x in input_from_cloud:\n",
    "                writer.writerows(\"\".join(x))\n",
    "\n",
    "    except IOError:\n",
    "        print(\"I/O error\")\n",
    "\n",
    "\n",
    "def get_book_titles_from_image(input_file_name, outpule_file_name='books.csv'):\n",
    "    shelves = [detect_text(x) for x in input_file_name]\n",
    "    write_csv_file(shelves, output_file_name)\n"
   ]
  },
  {
   "cell_type": "code",
   "execution_count": 7,
   "metadata": {},
   "outputs": [],
   "source": [
    "res = detect_text('zhengli/data/IMG_20190904_160030170.jpg')"
   ]
  },
  {
   "cell_type": "code",
   "execution_count": 8,
   "metadata": {},
   "outputs": [
    {
     "data": {
      "text/plain": [
       "\"EDGAR\\nALLAN\\nPOE\\nve\\nmer\\nOO\\nENRICHED\\nCLASSIC\\nNTAM\\nA BANTAM CLASSIC\\nCLASSI\\nCLASSIC\\nIncludes\\nDetailed\\nNotes and\\nCommentary\\nUS\\n$4.95\\nCANADA\\n$6.95\\nPOCKET\\nCASTLE BOOKS\\n5 ND\\nV-189\\nBOOKS\\nNADA\\n$7.95\\nVintage\\nVINTAGE\\nVINTAGE\\nHarper One\\nVINTAGE\\nSCRIBNER\\nPAPERMACK\\n7OWING\\nROWILNC\\nNOWLNG\\nROWIDG\\nFIRE SERMON JAMIE QUATRO\\nCATCH-22 JOSEPH HELLER\\nRAGMAN and other cries of faith Walter Wangerin Jr.\\nDover 0-486-26464-5 T\\nConrad\\nHEART OF DARKNESS\\nThe Picture of Dorian Gray. Oscar Wilde\\nand Other Writings\\nHARRIET\\nBEECHER\\nSTOWE\\nUNCLE TOM'S\\nCABIN\\nLIGHT IN AUGUST FAULKNER\\nTHE SOUND AND THE FURY FAULKNER\\nAS I LAY DYING FAULKNER\\nLIGHT IN AUGUST\\nWILLIAM FAULKNER\\nJORGE LUIS BORGES\\nEVERYTHING AND NOTHING\\nThe Death of Ivan llyich Leo Tolstoy\\nJOHN STEINBECK THE PEARL\\nISBN 014\\n01.7237 X\\nWELCOME TO THE MONKEY HOUSE KURTVONNEGUT, JR.40.0s\\nJOHN STEINBECK\\nThe Pearl\\nComplete Tales&Poems\\n\""
      ]
     },
     "execution_count": 8,
     "metadata": {},
     "output_type": "execute_result"
    }
   ],
   "source": [
    "res"
   ]
  },
  {
   "cell_type": "code",
   "execution_count": 7,
   "metadata": {},
   "outputs": [
    {
     "data": {
      "text/plain": [
       "'BORN\\nBROTHERS\\nLARY\\nWOWOL\\n4-\\nTARRAR\\nSTRAU\\nIROL\\nDrinking Coffee Eowere\\nZZ PACKERCd\\nSS THE E cE 181\\nMURAKAN\\nThe receisory ge le lal slle a\\nTHE\\nTORIUM\\nTRUE GRIT CHARLES PORTIS\\nILLA C ATHER 2ch Comes For\\nhe Archbishcp\\nTEeve cood\\nMODERN SOUTH\\ne Li sauo Sa iHO\\nMOYECOLE\\nPLECY\\nALICE MUNHO SELECTD STORD\\nBUN\\nANAW\\nMARGARE\\nAIWOOD\\nHERE IS WERE WE HEE\\nKrik? Krak! XEIVIDEE TICAT\\nmoderr LoversEmma Straub\\n'"
      ]
     },
     "execution_count": 7,
     "metadata": {},
     "output_type": "execute_result"
    }
   ],
   "source": [
    "detect_text('zhengli/core/modern_lovers_shelf.png')"
   ]
  },
  {
   "cell_type": "code",
   "execution_count": 8,
   "metadata": {},
   "outputs": [
    {
     "ename": "ModuleNotFoundError",
     "evalue": "No module named 'google.cloud'",
     "output_type": "error",
     "traceback": [
      "\u001b[0;31m---------------------------------------------------------------------------\u001b[0m",
      "\u001b[0;31mModuleNotFoundError\u001b[0m                       Traceback (most recent call last)",
      "\u001b[0;32m<ipython-input-8-9e08372d0486>\u001b[0m in \u001b[0;36m<module>\u001b[0;34m()\u001b[0m\n\u001b[1;32m      1\u001b[0m \u001b[0minput_files\u001b[0m \u001b[0;34m=\u001b[0m \u001b[0;34m[\u001b[0m\u001b[0;34m'core/john_cheever_shelf.png'\u001b[0m\u001b[0;34m,\u001b[0m \u001b[0;34m'core/modern_lovers_shelf.png'\u001b[0m\u001b[0;34m]\u001b[0m\u001b[0;34m\u001b[0m\u001b[0;34m\u001b[0m\u001b[0m\n\u001b[1;32m      2\u001b[0m \u001b[0;34m\u001b[0m\u001b[0m\n\u001b[0;32m----> 3\u001b[0;31m \u001b[0mget_book_titles_from_image\u001b[0m\u001b[0;34m(\u001b[0m\u001b[0minput_files\u001b[0m\u001b[0;34m,\u001b[0m \u001b[0;34m\"core/book_names.csv\"\u001b[0m\u001b[0;34m)\u001b[0m\u001b[0;34m\u001b[0m\u001b[0;34m\u001b[0m\u001b[0m\n\u001b[0m",
      "\u001b[0;32m<ipython-input-7-eeb98550c497>\u001b[0m in \u001b[0;36mget_book_titles_from_image\u001b[0;34m(input_file_name, outpule_file_name)\u001b[0m\n\u001b[1;32m     37\u001b[0m \u001b[0;34m\u001b[0m\u001b[0m\n\u001b[1;32m     38\u001b[0m \u001b[0;32mdef\u001b[0m \u001b[0mget_book_titles_from_image\u001b[0m\u001b[0;34m(\u001b[0m\u001b[0minput_file_name\u001b[0m\u001b[0;34m,\u001b[0m \u001b[0moutpule_file_name\u001b[0m\u001b[0;34m=\u001b[0m\u001b[0;34m'books.csv'\u001b[0m\u001b[0;34m)\u001b[0m\u001b[0;34m:\u001b[0m\u001b[0;34m\u001b[0m\u001b[0;34m\u001b[0m\u001b[0m\n\u001b[0;32m---> 39\u001b[0;31m     \u001b[0mshelves\u001b[0m \u001b[0;34m=\u001b[0m \u001b[0;34m[\u001b[0m\u001b[0mdetect_text\u001b[0m\u001b[0;34m(\u001b[0m\u001b[0mx\u001b[0m\u001b[0;34m)\u001b[0m \u001b[0;32mfor\u001b[0m \u001b[0mx\u001b[0m \u001b[0;32min\u001b[0m \u001b[0minput_file_name\u001b[0m\u001b[0;34m]\u001b[0m\u001b[0;34m\u001b[0m\u001b[0;34m\u001b[0m\u001b[0m\n\u001b[0m\u001b[1;32m     40\u001b[0m     \u001b[0mwrite_csv_file\u001b[0m\u001b[0;34m(\u001b[0m\u001b[0mshelves\u001b[0m\u001b[0;34m,\u001b[0m \u001b[0moutput_file_name\u001b[0m\u001b[0;34m)\u001b[0m\u001b[0;34m\u001b[0m\u001b[0;34m\u001b[0m\u001b[0m\n",
      "\u001b[0;32m<ipython-input-7-eeb98550c497>\u001b[0m in \u001b[0;36m<listcomp>\u001b[0;34m(.0)\u001b[0m\n\u001b[1;32m     37\u001b[0m \u001b[0;34m\u001b[0m\u001b[0m\n\u001b[1;32m     38\u001b[0m \u001b[0;32mdef\u001b[0m \u001b[0mget_book_titles_from_image\u001b[0m\u001b[0;34m(\u001b[0m\u001b[0minput_file_name\u001b[0m\u001b[0;34m,\u001b[0m \u001b[0moutpule_file_name\u001b[0m\u001b[0;34m=\u001b[0m\u001b[0;34m'books.csv'\u001b[0m\u001b[0;34m)\u001b[0m\u001b[0;34m:\u001b[0m\u001b[0;34m\u001b[0m\u001b[0;34m\u001b[0m\u001b[0m\n\u001b[0;32m---> 39\u001b[0;31m     \u001b[0mshelves\u001b[0m \u001b[0;34m=\u001b[0m \u001b[0;34m[\u001b[0m\u001b[0mdetect_text\u001b[0m\u001b[0;34m(\u001b[0m\u001b[0mx\u001b[0m\u001b[0;34m)\u001b[0m \u001b[0;32mfor\u001b[0m \u001b[0mx\u001b[0m \u001b[0;32min\u001b[0m \u001b[0minput_file_name\u001b[0m\u001b[0;34m]\u001b[0m\u001b[0;34m\u001b[0m\u001b[0;34m\u001b[0m\u001b[0m\n\u001b[0m\u001b[1;32m     40\u001b[0m     \u001b[0mwrite_csv_file\u001b[0m\u001b[0;34m(\u001b[0m\u001b[0mshelves\u001b[0m\u001b[0;34m,\u001b[0m \u001b[0moutput_file_name\u001b[0m\u001b[0;34m)\u001b[0m\u001b[0;34m\u001b[0m\u001b[0;34m\u001b[0m\u001b[0m\n",
      "\u001b[0;32m<ipython-input-7-eeb98550c497>\u001b[0m in \u001b[0;36mdetect_text\u001b[0;34m(path)\u001b[0m\n\u001b[1;32m      6\u001b[0m \u001b[0;32mdef\u001b[0m \u001b[0mdetect_text\u001b[0m\u001b[0;34m(\u001b[0m\u001b[0mpath\u001b[0m\u001b[0;34m)\u001b[0m\u001b[0;34m:\u001b[0m\u001b[0;34m\u001b[0m\u001b[0;34m\u001b[0m\u001b[0m\n\u001b[1;32m      7\u001b[0m     \u001b[0;34m\"\"\"Detects text in the file.\"\"\"\u001b[0m\u001b[0;34m\u001b[0m\u001b[0;34m\u001b[0m\u001b[0m\n\u001b[0;32m----> 8\u001b[0;31m     \u001b[0;32mfrom\u001b[0m \u001b[0mgoogle\u001b[0m\u001b[0;34m.\u001b[0m\u001b[0mcloud\u001b[0m \u001b[0;32mimport\u001b[0m \u001b[0mvision\u001b[0m\u001b[0;34m\u001b[0m\u001b[0;34m\u001b[0m\u001b[0m\n\u001b[0m\u001b[1;32m      9\u001b[0m     \u001b[0mclient\u001b[0m \u001b[0;34m=\u001b[0m \u001b[0mvision\u001b[0m\u001b[0;34m.\u001b[0m\u001b[0mImageAnnotatorClient\u001b[0m\u001b[0;34m(\u001b[0m\u001b[0;34m)\u001b[0m\u001b[0;34m\u001b[0m\u001b[0;34m\u001b[0m\u001b[0m\n\u001b[1;32m     10\u001b[0m \u001b[0;34m\u001b[0m\u001b[0m\n",
      "\u001b[0;31mModuleNotFoundError\u001b[0m: No module named 'google.cloud'"
     ]
    }
   ],
   "source": [
    "input_files = ['core/john_cheever_shelf.png', 'core/modern_lovers_shelf.png']\n",
    "\n",
    "get_book_titles_from_image(input_files, \"core/book_names.csv\")"
   ]
  },
  {
   "cell_type": "code",
   "execution_count": 28,
   "metadata": {},
   "outputs": [],
   "source": [
    "def form_url(ISBN=None):\n",
    "    \"\"\"Formulate an url that will be sent to openlibrary.org/api'.\n",
    "\n",
    "    Parameters\n",
    "    ----------\n",
    "    ISBN : string\n",
    "        a string of book's ISBN.\n",
    "\n",
    "    Returns\n",
    "    -------\n",
    "    string\n",
    "        An url that will be sent to openlibrary/org/api.\n",
    "\n",
    "    \"\"\"\n",
    "    url = 'https://openlibrary.org/api/books?bibkeys=ISBN:' + \\\n",
    "        ISBN + '&jscmd=data&format=json'\n",
    "\n",
    "    return url\n"
   ]
  },
  {
   "cell_type": "code",
   "execution_count": 30,
   "metadata": {},
   "outputs": [],
   "source": [
    "def get_reponse(url):\n",
    "    response = requests.get(url)\n",
    "    print('Acquired following info about the book {}'.format(response.text))\n",
    "    return response.text"
   ]
  },
  {
   "cell_type": "code",
   "execution_count": 29,
   "metadata": {},
   "outputs": [
    {
     "ename": "NameError",
     "evalue": "name 'get_response' is not defined",
     "output_type": "error",
     "traceback": [
      "\u001b[0;31m---------------------------------------------------------------------------\u001b[0m",
      "\u001b[0;31mNameError\u001b[0m                                 Traceback (most recent call last)",
      "\u001b[0;32m<ipython-input-29-adcf068e323e>\u001b[0m in \u001b[0;36m<module>\u001b[0;34m()\u001b[0m\n\u001b[1;32m      1\u001b[0m \u001b[0murl\u001b[0m \u001b[0;34m=\u001b[0m \u001b[0mform_url\u001b[0m\u001b[0;34m(\u001b[0m\u001b[0;34m'9780374103620'\u001b[0m\u001b[0;34m)\u001b[0m\u001b[0;34m\u001b[0m\u001b[0;34m\u001b[0m\u001b[0m\n\u001b[1;32m      2\u001b[0m \u001b[0;34m\u001b[0m\u001b[0m\n\u001b[0;32m----> 3\u001b[0;31m \u001b[0mget_response\u001b[0m\u001b[0;34m(\u001b[0m\u001b[0murl\u001b[0m\u001b[0;34m)\u001b[0m\u001b[0;34m\u001b[0m\u001b[0;34m\u001b[0m\u001b[0m\n\u001b[0m",
      "\u001b[0;31mNameError\u001b[0m: name 'get_response' is not defined"
     ]
    }
   ],
   "source": [
    "url = form_url('9780374103620')\n",
    "\n",
    "get_reponse(url)"
   ]
  },
  {
   "cell_type": "code",
   "execution_count": null,
   "metadata": {},
   "outputs": [],
   "source": []
  }
 ],
 "metadata": {
  "kernelspec": {
   "display_name": "Python 3",
   "language": "python",
   "name": "python3"
  },
  "language_info": {
   "codemirror_mode": {
    "name": "ipython",
    "version": 3
   },
   "file_extension": ".py",
   "mimetype": "text/x-python",
   "name": "python",
   "nbconvert_exporter": "python",
   "pygments_lexer": "ipython3",
   "version": "3.7.6"
  }
 },
 "nbformat": 4,
 "nbformat_minor": 2
}
