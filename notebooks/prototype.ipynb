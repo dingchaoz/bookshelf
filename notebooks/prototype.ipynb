{
 "cells": [
  {
   "cell_type": "code",
   "execution_count": 1,
   "metadata": {},
   "outputs": [],
   "source": [
    "import re\n",
    "import requests\n",
    "import json\n",
    "from collections import defaultdict\n",
    "\n",
    "\n",
    "def form_url(ISBN=None):\n",
    "    \"\"\"Formulate an url that will be sent to openlibrary.org/api'.\n",
    "\n",
    "    Parameters\n",
    "    ----------\n",
    "    ISBN : string\n",
    "        a string of book's ISBN.\n",
    "\n",
    "    Returns\n",
    "    -------\n",
    "    string\n",
    "        An url that will be sent to openlibrary/org/api.\n",
    "\n",
    "    \"\"\"\n",
    "    url = 'https://openlibrary.org/api/books?bibkeys=ISBN:' + \\\n",
    "        ISBN + '&jscmd=data&format=json'\n",
    "\n",
    "    return url\n",
    "\n",
    "def form_url_title(title='here is where we meet'):\n",
    "    \"\"\"Formulate an url that will be sent to openlibrary.org/api'.\n",
    "\n",
    "    Parameters\n",
    "    ----------\n",
    "    ISBN : string\n",
    "        a string of book's ISBN.\n",
    "\n",
    "    Returns\n",
    "    -------\n",
    "    string\n",
    "        An url that will be sent to openlibrary/org/api.\n",
    "\n",
    "    \"\"\"\n",
    "    title = \"+\".join( title.split() )\n",
    "    url = 'https://isbnsearch.org/search?s=' + \\\n",
    "        title\n",
    "\n",
    "    return url\n",
    "\n",
    "\n",
    "def get_ISBN_from_title(title):\n",
    "    h = {'Authorization': '43360_fd60754106422e4ff2600025312a1118'}\n",
    "    title = title.title()\n",
    "    #title = \"%20\".join( title.split() )\n",
    "    resp = requests.get(\"https://api2.isbndb.com/books/{\" \\\n",
    "             +title +\"}\", headers=h)\n",
    "    # print('Acquired following info about the book {}'.format(resp.))\n",
    "    # print(resp.json())\n",
    "    results = resp.json()['books']\n",
    "    \n",
    "    return results\n",
    "\n",
    "def get_author_name(results):\n",
    "    authors = []\n",
    "    for x in results:\n",
    "        try:\n",
    "            if 'authors' in x.keys():\n",
    "                authors.append(x['authors'])\n",
    "        except Exception:\n",
    "            return \"Jane Doe\"\n",
    "                    \n",
    "    return authors\n",
    "\n",
    "def mode_authors(list_of_authors):\n",
    "    author_count = defaultdict(int)\n",
    "    for auth in list_of_authors:\n",
    "        for x in auth: \n",
    "            author_count[x] += 1 \n",
    "        \n",
    "    return max(author_count, key=lambda key: author_count[key])\n",
    "    \n",
    "def extract_IBSN_from_api_return(results, author):\n",
    "    # note that this gets the last ISBN in the list--there maybe multiple copies\n",
    "    # of the book--hopefully all additions have the same dewey decimal number\n",
    "    ISBN = None\n",
    "    right = []\n",
    "    genre = None\n",
    "\n",
    "    for x in results:\n",
    "        #print(x.keys)\n",
    "        try:\n",
    "            if 'authors' in x.keys():\n",
    "                if author in x['authors']:\n",
    "                    # print(x)\n",
    "                    right.append(x['isbn13'])\n",
    "                    right.append(x['isbn'])\n",
    "                    \n",
    "                    if 'subjects' in x.keys():\n",
    "                        genre = x['subjects']\n",
    "\n",
    "        \n",
    "        except Exception:\n",
    "            pass\n",
    "\n",
    "    return right, genre\n",
    "\n",
    "\n",
    "def get_response(url):\n",
    "    response = requests.get(url)\n",
    "    # print('Acquired following info about the book {}'.format(response.text))\n",
    "    return response.text\n",
    "\n",
    "\n",
    "def extract_ddc(text):\n",
    "    try:\n",
    "        dewey_pattern = re.compile(r'(\\\\d{3}/.\\\\d+?\\/?d)')\n",
    "        ddc = dewey_pattern.findall(text)[0]\n",
    "        # print('Dewey decimal code of the book is {}'.format(ddc))\n",
    "    except:\n",
    "        if 'fiction' in text:\n",
    "            return 813.\n",
    "        else:\n",
    "            print(\"dewey_decimal_not_found\")\n",
    "            ddc = None\n",
    "    \n",
    "    return ddc\n",
    "\n",
    "def check_genre_ddc(genre):\n",
    "    for x in genre:\n",
    "        # print(x)\n",
    "        if x.lower() == 'fiction':\n",
    "            return 813.6\n",
    "        if x.lower() == 'nonfiction':\n",
    "            return 810\n",
    "        if x.lower() == 'journalism':\n",
    "            return '070' \n",
    "        \n",
    "    return 000.0\n",
    "\n",
    "\n",
    "def get_ddc_api(ISBN=None, title=None, author_name=None):\n",
    "\n",
    "    ddc = None\n",
    "   \n",
    "    if ISBN is not None:\n",
    "        url = form_url(ISBN)\n",
    "        response = get_response(url)\n",
    "        ddc = extract_ddc(response)\n",
    "        return ddc\n",
    "    \n",
    "    else:\n",
    "        response = get_ISBN_from_title(title)\n",
    "        if author_name is None:\n",
    "            author_name = mode_authors(get_author_name(response))\n",
    "            print(author_name)\n",
    "            \n",
    "        ISBN, genre = extract_IBSN_from_api_return(response, author_name)\n",
    "        print(ISBN, genre)\n",
    "        #print(ISBN)\n",
    "        for x in ISBN:\n",
    "            if not ddc:\n",
    "                url = form_url(x)\n",
    "                response = get_response(url)\n",
    "                ddc = extract_ddc(response)\n",
    "                if ddc is not None:\n",
    "                    return ddc\n",
    "                else:\n",
    "                    pass\n",
    "        if ddc is None and genre is not None:\n",
    "            ddc = check_genre_ddc(genre)\n",
    "            return ddc\n",
    "            \n",
    "    return ddc\n"
   ]
  },
  {
   "cell_type": "raw",
   "metadata": {},
   "source": [
    "get_ISBN_from_title(\"Silence\")"
   ]
  },
  {
   "cell_type": "code",
   "execution_count": 2,
   "metadata": {},
   "outputs": [
    {
     "name": "stdout",
     "output_type": "stream",
     "text": [
      "Pittacus Lore\n",
      "['9780718157951', '0718157958', '9780062111630', '0062111639', '9780606262897', '060626289X', '9780141047850', '0141047852', '9780141338668', '0141338660', '9780061974557', '0061974552', '9780141330877', '0141330872'] ['Extraterrestrial Beings', 'Convents', 'Fugitives From Justice', 'Friendship', 'Science Fiction']\n",
      "dewey_decimal_not_found\n",
      "dewey_decimal_not_found\n",
      "dewey_decimal_not_found\n",
      "dewey_decimal_not_found\n",
      "dewey_decimal_not_found\n",
      "dewey_decimal_not_found\n",
      "dewey_decimal_not_found\n",
      "dewey_decimal_not_found\n",
      "dewey_decimal_not_found\n",
      "dewey_decimal_not_found\n"
     ]
    },
    {
     "data": {
      "text/plain": [
       "813.0"
      ]
     },
     "execution_count": 2,
     "metadata": {},
     "output_type": "execute_result"
    }
   ],
   "source": [
    "get_ddc_api(title=\"The Power of Six\")"
   ]
  },
  {
   "cell_type": "code",
   "execution_count": 3,
   "metadata": {},
   "outputs": [
    {
     "name": "stdout",
     "output_type": "stream",
     "text": [
      "Jeff Kinney\n",
      "['9780810982932', '0810982935', '9780810988941', '0810988941', '9781436196321', '1436196329', '9780670074938', '0670074934', '9780810994737', '0810994739', '9781419714115', '1419714112', '9780810987999', '0810987996', '9780141336343', '014133634x', '9781419707667', '1419707663', '9781439582640', '1439582645', '9789868484740', '986848474X', '9780606236638', '0606236635', '9781933032627', '1933032626', '9788993055030', '8993055033', '9780143304555', '0143304550', '9780810996168', '0810996162', '9781615579181', '1615579184', '9780141324920', '0141324929'] ['Fiction - Games & Activities', 'Fiction - Schools & Friendship', 'Fiction - Comic Books & Graphic Novels']\n",
      "dewey_decimal_not_found\n",
      "dewey_decimal_not_found\n",
      "dewey_decimal_not_found\n",
      "dewey_decimal_not_found\n",
      "dewey_decimal_not_found\n",
      "dewey_decimal_not_found\n",
      "dewey_decimal_not_found\n",
      "dewey_decimal_not_found\n"
     ]
    },
    {
     "data": {
      "text/plain": [
       "813.0"
      ]
     },
     "execution_count": 3,
     "metadata": {},
     "output_type": "execute_result"
    }
   ],
   "source": [
    "get_ddc_api(title=\"Diary of a Wimpy Kid RODRICK\")"
   ]
  },
  {
   "cell_type": "code",
   "execution_count": 4,
   "metadata": {},
   "outputs": [
    {
     "data": {
      "text/plain": [
       "(['9780720612868', '0720612861', '9780870115356', '0870115359'], ['Fiction'])"
      ]
     },
     "execution_count": 4,
     "metadata": {},
     "output_type": "execute_result"
    }
   ],
   "source": [
    "extract_IBSN_from_api_return(get_ISBN_from_title(\"Silence\"), 'Shusaku Endo')"
   ]
  },
  {
   "cell_type": "code",
   "execution_count": 5,
   "metadata": {},
   "outputs": [
    {
     "name": "stdout",
     "output_type": "stream",
     "text": [
      "['9780720612868', '0720612861', '9780870115356', '0870115359'] ['Fiction']\n",
      "dewey_decimal_not_found\n",
      "dewey_decimal_not_found\n",
      "dewey_decimal_not_found\n",
      "dewey_decimal_not_found\n"
     ]
    },
    {
     "data": {
      "text/plain": [
       "813.6"
      ]
     },
     "execution_count": 5,
     "metadata": {},
     "output_type": "execute_result"
    }
   ],
   "source": [
    "get_ddc_api(title=\"Silence\", author_name=\"Shusaku Endo\")"
   ]
  },
  {
   "cell_type": "code",
   "execution_count": 6,
   "metadata": {},
   "outputs": [
    {
     "name": "stdout",
     "output_type": "stream",
     "text": [
      "['9781842126011', '1842126016'] ['Language Arts &amp; Disciplines', 'Journalism']\n",
      "dewey_decimal_not_found\n",
      "dewey_decimal_not_found\n"
     ]
    },
    {
     "data": {
      "text/plain": [
       "'070'"
      ]
     },
     "execution_count": 6,
     "metadata": {},
     "output_type": "execute_result"
    }
   ],
   "source": [
    "get_ddc_api(title=\"A Personal History\", author_name=\"Katharine Graham\")"
   ]
  },
  {
   "cell_type": "code",
   "execution_count": 7,
   "metadata": {},
   "outputs": [
    {
     "name": "stdout",
     "output_type": "stream",
     "text": [
      "['9781787126022', '1787126021', '9781783555130', '1783555130'] None\n",
      "dewey_decimal_not_found\n",
      "dewey_decimal_not_found\n",
      "dewey_decimal_not_found\n",
      "dewey_decimal_not_found\n"
     ]
    }
   ],
   "source": [
    "get_ddc_api(title=\"Python Machine Learning\", author_name=\"Sebastian Raschka\")"
   ]
  },
  {
   "cell_type": "code",
   "execution_count": 8,
   "metadata": {},
   "outputs": [
    {
     "name": "stdout",
     "output_type": "stream",
     "text": [
      "['9780816130757', '0816130752', '9781576467374', '1576467376', '9781615701551', '1615701559', '9781428108349', '1428108343', '9781609420598', '1609420594', '9780448060231', '044806023X', '9781279853146', '127985314x', '9781578152452', '1578152453', '9780710517395', '0710517394', '9780451519597', '0451519590', '9781593351830', '1593351836', '9781420922363', '142092236X', '9780681995628', '0681995629', '9780886460433', '0886460433', '9781426451232', '1426451237'] [\"Children's Fiction\", 'Classics']\n"
     ]
    },
    {
     "data": {
      "text/plain": [
       "813.0"
      ]
     },
     "execution_count": 8,
     "metadata": {},
     "output_type": "execute_result"
    }
   ],
   "source": [
    "get_ddc_api(title=\"A Tale of Two Cities\", author_name=\"Charles Dickens\")"
   ]
  },
  {
   "cell_type": "code",
   "execution_count": null,
   "metadata": {},
   "outputs": [],
   "source": []
  }
 ],
 "metadata": {
  "kernelspec": {
   "display_name": "Python 3",
   "language": "python",
   "name": "python3"
  },
  "language_info": {
   "codemirror_mode": {
    "name": "ipython",
    "version": 3
   },
   "file_extension": ".py",
   "mimetype": "text/x-python",
   "name": "python",
   "nbconvert_exporter": "python",
   "pygments_lexer": "ipython3",
   "version": "3.7.4"
  }
 },
 "nbformat": 4,
 "nbformat_minor": 2
}
